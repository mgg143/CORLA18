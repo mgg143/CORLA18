{
 "cells": [
  {
   "cell_type": "code",
   "execution_count": 2,
   "metadata": {
    "jupyter": {
     "source_hidden": true
    },
    "scrolled": false
   },
   "outputs": [
    {
     "name": "stdout",
     "output_type": "stream",
     "text": [
      "Apparent winner: 4\n",
      "Apparently eliminated: \n",
      "['47', '6', '3', '5', '2', '1']\n"
     ]
    },
    {
     "ename": "TypeError",
     "evalue": "buildRemainingTreeAsLists() missing 2 required positional arguments: 'WOLosers' and 'IRVElims'",
     "output_type": "error",
     "traceback": [
      "\u001b[0;31m---------------------------------------------------------------------------\u001b[0m",
      "\u001b[0;31mTypeError\u001b[0m                                 Traceback (most recent call last)",
      "\u001b[0;32m<ipython-input-2-2e6190e9247e>\u001b[0m in \u001b[0;36m<module>\u001b[0;34m\u001b[0m\n\u001b[1;32m     15\u001b[0m     \u001b[0mcandidateSet\u001b[0m\u001b[0;34m.\u001b[0m\u001b[0madd\u001b[0m\u001b[0;34m(\u001b[0m\u001b[0mapparentWinner\u001b[0m\u001b[0;34m)\u001b[0m\u001b[0;34m\u001b[0m\u001b[0;34m\u001b[0m\u001b[0m\n\u001b[1;32m     16\u001b[0m     \u001b[0mcandidateSet\u001b[0m\u001b[0;34m.\u001b[0m\u001b[0mremove\u001b[0m\u001b[0;34m(\u001b[0m\u001b[0mc\u001b[0m\u001b[0;34m)\u001b[0m\u001b[0;34m\u001b[0m\u001b[0;34m\u001b[0m\u001b[0m\n\u001b[0;32m---> 17\u001b[0;31m     \u001b[0mtreeAsLists\u001b[0m\u001b[0;34m=\u001b[0m\u001b[0mbuildRemainingTreeAsLists\u001b[0m\u001b[0;34m(\u001b[0m\u001b[0mc\u001b[0m\u001b[0;34m,\u001b[0m\u001b[0mcandidateSet\u001b[0m\u001b[0;34m,\u001b[0m \u001b[0mWOLosers\u001b[0m\u001b[0;34m,\u001b[0m \u001b[0mIRVElims\u001b[0m\u001b[0;34m)\u001b[0m\u001b[0;34m\u001b[0m\u001b[0;34m\u001b[0m\u001b[0m\n\u001b[0m\u001b[1;32m     18\u001b[0m     \u001b[0mtreeAsTuples\u001b[0m\u001b[0;34m=\u001b[0m\u001b[0mtreeListToTuple\u001b[0m\u001b[0;34m(\u001b[0m\u001b[0mtreeAsLists\u001b[0m\u001b[0;34m)\u001b[0m\u001b[0;34m\u001b[0m\u001b[0;34m\u001b[0m\u001b[0m\n\u001b[1;32m     19\u001b[0m     \u001b[0mdrawnTree\u001b[0m \u001b[0;34m=\u001b[0m \u001b[0msvgling\u001b[0m\u001b[0;34m.\u001b[0m\u001b[0mdraw_tree\u001b[0m\u001b[0;34m(\u001b[0m\u001b[0mtreeAsTuples\u001b[0m\u001b[0;34m)\u001b[0m\u001b[0;34m\u001b[0m\u001b[0;34m\u001b[0m\u001b[0m\n",
      "\u001b[0;32m~/code/IRVVisualisationUtils.py\u001b[0m in \u001b[0;36mbuildRemainingTreeAsLists\u001b[0;34m(c, S, WOLosers, IRVElims)\u001b[0m\n\u001b[1;32m     92\u001b[0m         \u001b[0msmallerSet\u001b[0m \u001b[0;34m=\u001b[0m \u001b[0mS\u001b[0m\u001b[0;34m.\u001b[0m\u001b[0mcopy\u001b[0m\u001b[0;34m(\u001b[0m\u001b[0;34m)\u001b[0m\u001b[0;34m\u001b[0m\u001b[0;34m\u001b[0m\u001b[0m\n\u001b[1;32m     93\u001b[0m         \u001b[0msmallerSet\u001b[0m\u001b[0;34m.\u001b[0m\u001b[0mremove\u001b[0m\u001b[0;34m(\u001b[0m\u001b[0mc2\u001b[0m\u001b[0;34m)\u001b[0m\u001b[0;34m\u001b[0m\u001b[0;34m\u001b[0m\u001b[0m\n\u001b[0;32m---> 94\u001b[0;31m         \u001b[0mtree\u001b[0m\u001b[0;34m[\u001b[0m\u001b[0;36m1\u001b[0m\u001b[0;34m]\u001b[0m\u001b[0;34m.\u001b[0m\u001b[0mappend\u001b[0m\u001b[0;34m(\u001b[0m\u001b[0mbuildRemainingTreeAsLists\u001b[0m\u001b[0;34m(\u001b[0m\u001b[0mc2\u001b[0m\u001b[0;34m,\u001b[0m\u001b[0msmallerSet\u001b[0m\u001b[0;34m)\u001b[0m\u001b[0;34m)\u001b[0m\u001b[0;34m\u001b[0m\u001b[0;34m\u001b[0m\u001b[0m\n\u001b[0m\u001b[1;32m     95\u001b[0m \u001b[0;34m\u001b[0m\u001b[0m\n\u001b[1;32m     96\u001b[0m     \u001b[0;32mreturn\u001b[0m \u001b[0mtree\u001b[0m\u001b[0;34m\u001b[0m\u001b[0;34m\u001b[0m\u001b[0m\n",
      "\u001b[0;31mTypeError\u001b[0m: buildRemainingTreeAsLists() missing 2 required positional arguments: 'WOLosers' and 'IRVElims'"
     ]
    }
   ],
   "source": [
    "import json\n",
    "import svgling\n",
    "from svgling.figure import Caption, SideBySide, RowByRow\n",
    "from IRVVisualisationUtils import treeListToTuple, parseAssertions, printAssertions, buildRemainingTreeAsLists\n",
    "\n",
    "a_file = open(\"../AssertionJSON/RAIRE_sample_audit1.json\")\n",
    "auditfile = json.load(a_file)\n",
    "        \n",
    "(apparentWinner, apparentNonWinners, WOLosers,IRVElims) = parseAssertions(auditfile)\n",
    "                \n",
    "# Print out the results\n",
    "elimTrees=[]\n",
    "for c in apparentNonWinners:\n",
    "    candidateSet=set(apparentNonWinners).copy()\n",
    "    candidateSet.add(apparentWinner)\n",
    "    candidateSet.remove(c)\n",
    "    treeAsLists=buildRemainingTreeAsLists(c,candidateSet, WOLosers, IRVElims)\n",
    "    treeAsTuples=treeListToTuple(treeAsLists)\n",
    "    drawnTree = svgling.draw_tree(treeAsTuples)\n",
    "    elimTrees.append(Caption(drawnTree,\"Remaining orders in which \"+c+\" wins.\"))\n",
    "\n",
    "#def printSixTrees(elimTrees):\n",
    "print(\"Built \"+str(len(elimTrees))+\" trees.\")\n",
    "#print(\"Warning: hardcoded to print 6 trees!\")\n",
    "Caption(RowByRow(RowByRow(RowByRow(elimTrees[0],elimTrees[1]),RowByRow(elimTrees[2],elimTrees[3])),RowByRow(elimTrees[4],elimTrees[5])   ), \"Whole trees excluded.\")\n",
    "\n"
   ]
  },
  {
   "cell_type": "markdown",
   "metadata": {},
   "source": [
    "# RAIRE example assertions\n",
    "\n",
    "This notebook provides a simple example of the kinds of assertions RAIRE might derive.\n",
    "Suppose we have the following IRV CVRs:\n",
    "- 10 votes list (Alpine, Beach, Canyon)\n",
    "- 10 votes list (Alpine, Beach, Desert)\n",
    "- 25 votes list (Beach)\n",
    "- 6  votes list (Canyon, Alpine, Beach)\n",
    "- 4  votes list (Desert, Alpine, Beach)\n",
    "The apparent winner is Alpine, with apparent elimination order Desert, Canyon, Beach, (Alpine), shown below in red.\n",
    "The audit needs to exclude all the other possible winners, though we don't care about other elimination orders in which Alpine wins.  To see how this works, click in each python box (including the import box above) and press shift-enter, working down the page."
   ]
  },
  {
   "cell_type": "code",
   "execution_count": 4,
   "metadata": {
    "jupyter": {
     "source_hidden": true
    }
   },
   "outputs": [
    {
     "name": "stdout",
     "output_type": "stream",
     "text": [
      "Not-Eliminated-Before assertions: \n",
      "NEB0: Candidate {'2'} cannot be eliminated before 3\n",
      "NEB1: Candidate {'5'} cannot be eliminated before 6\n",
      "NEB2: Candidate {'5', '1', '3', '4', '2'} cannot be eliminated before 47\n",
      "Not-Eliminated-Next assertions: \n",
      "NEN0: Candidate 5 cannot be eliminated next when {'47', '6', '1', '3', '4'} are eliminated.\n",
      "NEN1: Candidate 4 cannot be eliminated next when {'47', '5', '6'} are eliminated.\n",
      "NEN2: Candidate 4 cannot be eliminated next when {'47', '1', '5', '6'} are eliminated.\n",
      "NEN3: Candidate 4 cannot be eliminated next when {'47', '6'} are eliminated.\n",
      "NEN4: Candidate 4 cannot be eliminated next when {'47', '1', '6'} are eliminated.\n",
      "NEN5: Candidate 5 cannot be eliminated next when {'47', '1', '6'} are eliminated.\n",
      "NEN6: Candidate 3 cannot be eliminated next when {'47', '1'} are eliminated.\n",
      "NEN7: Candidate 3 cannot be eliminated next when {'4', '47'} are eliminated.\n",
      "NEN8: Candidate 3 cannot be eliminated next when {'4', '47', '1'} are eliminated.\n",
      "NEN9: Candidate 4 cannot be eliminated next when {'47', '5', '6', '3', '2'} are eliminated.\n",
      "NEN10: Candidate 4 cannot be eliminated next when {'47'} are eliminated.\n",
      "NEN11: Candidate 4 cannot be eliminated next when {'47', '1'} are eliminated.\n",
      "NEN12: Candidate 1 cannot be eliminated next when {'47'} are eliminated.\n",
      "NEN13: Candidate 1 cannot be eliminated next when {'3', '47'} are eliminated.\n",
      "NEN14: Candidate 1 cannot be eliminated next when {'4', '47'} are eliminated.\n",
      "NEN15: Candidate 1 cannot be eliminated next when {'3', '47', '4'} are eliminated.\n",
      "NEN16: Candidate 1 cannot be eliminated next when {'3', '2', '4', '47'} are eliminated.\n",
      "NEN17: Candidate 2 cannot be eliminated next when {'3', '47', '4'} are eliminated.\n",
      "NEN18: Candidate 1 cannot be eliminated next when {'3', '47', '4', '6'} are eliminated.\n",
      "NEN19: Candidate 1 cannot be eliminated next when {'3', '47', '6'} are eliminated.\n",
      "NEN20: Candidate 4 cannot be eliminated next when {'3', '47', '5', '6'} are eliminated.\n",
      "NEN21: Candidate 1 cannot be eliminated next when {'47', '6'} are eliminated.\n",
      "NEN22: Candidate 4 cannot be eliminated next when {'3', '47', '6'} are eliminated.\n",
      "NEN23: Candidate 1 cannot be eliminated next when {'4', '47', '6'} are eliminated.\n",
      "NEN24: Candidate 4 cannot be eliminated next when {'3', '47', '1', '6'} are eliminated.\n",
      "NEN25: Candidate 5 cannot be eliminated next when {'4', '47', '6'} are eliminated.\n",
      "NEN26: Candidate 5 cannot be eliminated next when {'4', '47', '1', '6'} are eliminated.\n",
      "NEN27: Candidate 4 cannot be eliminated next when {'3', '47'} are eliminated.\n",
      "NEN28: Candidate 4 cannot be eliminated next when {'3', '47', '1'} are eliminated.\n",
      "NEN29: Candidate 2 cannot be eliminated next when {'3', '47', '4', '1'} are eliminated.\n",
      "NEN30: Candidate 5 cannot be eliminated next when {'3', '47', '4', '6'} are eliminated.\n",
      "NEN31: Candidate 1 cannot be eliminated next when {'47', '5', '6'} are eliminated.\n",
      "NEN32: Candidate 1 cannot be eliminated next when {'3', '47', '5', '6'} are eliminated.\n",
      "NEN33: Candidate 4 cannot be eliminated next when {'3', '2', '47', '6'} are eliminated.\n",
      "NEN34: Candidate 1 cannot be eliminated next when {'4', '47', '5', '6'} are eliminated.\n",
      "NEN35: Candidate 4 cannot be eliminated next when {'3', '2', '47'} are eliminated.\n",
      "NEN36: Candidate 5 cannot be eliminated next when {'47', '6', '3', '4', '2'} are eliminated.\n",
      "NEN37: Candidate 4 cannot be eliminated next when {'3', '2', '47', '1'} are eliminated.\n",
      "NEN38: Candidate 4 cannot be eliminated next when {'47', '6', '1', '3', '2'} are eliminated.\n",
      "NEN39: Candidate 1 cannot be eliminated next when {'47', '5', '6', '3', '4'} are eliminated.\n"
     ]
    }
   ],
   "source": [
    "printAssertions(WOLosers,IRVElims)"
   ]
  },
  {
   "cell_type": "markdown",
   "metadata": {},
   "source": [
    "From now on we disregard the tree in which Alpine wins, and try to exclude all the others.  First consider Winner-only (WO) comparison between Alpine and Canyon - WO(Canyon,Alpine).  Canyon has only 6 mentions (not counting votes that prefer Alpine).  That's less than Alpine's first preference count of 20.  So Alpine cannot be eliminated before Canyon."
   ]
  },
  {
   "cell_type": "code",
   "execution_count": 7,
   "metadata": {
    "jupyter": {
     "source_hidden": true
    }
   },
   "outputs": [
    {
     "data": {
      "image/svg+xml": [
       "<svg baseProfile=\"full\" height=\"481.5px\" preserveAspectRatio=\"xMidYMid meet\" version=\"1.1\" viewBox=\"0,0,763.0,481.5\" width=\"763px\" xmlns=\"http://www.w3.org/2000/svg\" xmlns:ev=\"http://www.w3.org/2001/xml-events\" xmlns:xlink=\"http://www.w3.org/1999/xlink\"><defs /><svg height=\"449.0\" width=\"763.0\" x=\"0\" y=\"0\"><defs /><svg baseProfile=\"full\" height=\"449px\" preserveAspectRatio=\"xMidYMid meet\" version=\"1.1\" viewBox=\"0,0,763.0,449.0\" width=\"763px\" xmlns=\"http://www.w3.org/2000/svg\" xmlns:ev=\"http://www.w3.org/2001/xml-events\" xmlns:xlink=\"http://www.w3.org/1999/xlink\"><defs /><svg height=\"200.5\" width=\"763.0\" x=\"0\" y=\"16\"><defs /><svg baseProfile=\"full\" height=\"200.5px\" preserveAspectRatio=\"xMidYMid meet\" version=\"1.1\" viewBox=\"0,0,763.0,200.5\" width=\"763px\" xmlns=\"http://www.w3.org/2000/svg\" xmlns:ev=\"http://www.w3.org/2001/xml-events\" xmlns:xlink=\"http://www.w3.org/1999/xlink\"><defs /><svg height=\"200.5\" width=\"377.0\" x=\"16\" y=\"0\"><defs /><svg baseProfile=\"full\" height=\"200.5px\" preserveAspectRatio=\"xMidYMid meet\" version=\"1.1\" viewBox=\"0,0,377.0,200.5\" width=\"377px\" xmlns=\"http://www.w3.org/2000/svg\" xmlns:ev=\"http://www.w3.org/2001/xml-events\" xmlns:xlink=\"http://www.w3.org/1999/xlink\"><defs /><svg height=\"168.0\" width=\"320.0\" x=\"28.5\" y=\"0\"><defs /><svg baseProfile=\"full\" height=\"168px\" preserveAspectRatio=\"xMidYMid meet\" style=\"font-family: times, serif; font-weight:normal; font-style: normal; font-size: 16px;\" version=\"1.1\" viewBox=\"0,0,320.0,168.0\" width=\"320px\" xmlns=\"http://www.w3.org/2000/svg\" xmlns:ev=\"http://www.w3.org/2001/xml-events\" xmlns:xlink=\"http://www.w3.org/1999/xlink\"><defs /><svg width=\"100%\" x=\"0\" y=\"0em\"><defs /><text text-anchor=\"middle\" x=\"50%\" y=\"1em\">Desert</text></svg><svg width=\"40%\" x=\"0%\" y=\"3em\"><defs /><svg width=\"100%\" x=\"0\" y=\"0em\"><defs /><text text-anchor=\"middle\" x=\"50%\" y=\"1em\">Alpine</text></svg><svg width=\"50%\" x=\"0%\" y=\"3em\"><defs /><svg width=\"100%\" x=\"0\" y=\"0em\"><defs /><text text-anchor=\"middle\" x=\"50%\" y=\"1em\">Beach</text></svg><svg width=\"100%\" x=\"0%\" y=\"3em\"><defs /><svg width=\"100%\" x=\"0\" y=\"0em\"><defs /><text text-anchor=\"middle\" x=\"50%\" y=\"1em\">Canyon</text></svg></svg><line stroke=\"black\" x1=\"50%\" x2=\"50%\" y1=\"1.2em\" y2=\"3em\" /></svg><line stroke=\"black\" x1=\"50%\" x2=\"25%\" y1=\"1.2em\" y2=\"3em\" /><svg width=\"50%\" x=\"50%\" y=\"3em\"><defs /><svg width=\"100%\" x=\"0\" y=\"0em\"><defs /><text text-anchor=\"middle\" x=\"50%\" y=\"1em\">Canyon</text></svg><svg width=\"100%\" x=\"0%\" y=\"3em\"><defs /><svg width=\"100%\" x=\"0\" y=\"0em\"><defs /><text text-anchor=\"middle\" x=\"50%\" y=\"1em\">Beach</text></svg></svg><line stroke=\"black\" x1=\"50%\" x2=\"50%\" y1=\"1.2em\" y2=\"3em\" /></svg><line stroke=\"black\" x1=\"50%\" x2=\"75%\" y1=\"1.2em\" y2=\"3em\" /></svg><line stroke=\"black\" x1=\"50%\" x2=\"20%\" y1=\"1.2em\" y2=\"3em\" /><svg width=\"40%\" x=\"40%\" y=\"3em\"><defs /><svg width=\"100%\" x=\"0\" y=\"0em\"><defs /><text text-anchor=\"middle\" x=\"50%\" y=\"1em\">Beach</text></svg><svg width=\"50%\" x=\"0%\" y=\"3em\"><defs /><svg width=\"100%\" x=\"0\" y=\"0em\"><defs /><text text-anchor=\"middle\" x=\"50%\" y=\"1em\">Alpine</text></svg><svg width=\"100%\" x=\"0%\" y=\"3em\"><defs /><svg width=\"100%\" x=\"0\" y=\"0em\"><defs /><text text-anchor=\"middle\" x=\"50%\" y=\"1em\">Canyon</text></svg></svg><line stroke=\"black\" x1=\"50%\" x2=\"50%\" y1=\"1.2em\" y2=\"3em\" /></svg><line stroke=\"black\" x1=\"50%\" x2=\"25%\" y1=\"1.2em\" y2=\"3em\" /><svg width=\"50%\" x=\"50%\" y=\"3em\"><defs /><svg width=\"100%\" x=\"0\" y=\"0em\"><defs /><text text-anchor=\"middle\" x=\"50%\" y=\"1em\">Canyon</text></svg></svg><line stroke=\"black\" x1=\"50%\" x2=\"75%\" y1=\"1.2em\" y2=\"3em\" /></svg><line stroke=\"black\" x1=\"50%\" x2=\"60%\" y1=\"1.2em\" y2=\"3em\" /><svg width=\"20%\" x=\"80%\" y=\"3em\"><defs /><svg width=\"100%\" x=\"0\" y=\"0em\"><defs /><text text-anchor=\"middle\" x=\"50%\" y=\"1em\">Canyon</text></svg></svg><line stroke=\"black\" x1=\"50%\" x2=\"90%\" y1=\"1.2em\" y2=\"3em\" /><rect fill=\"green\" fill-opacity=\"0.15\" height=\"1.5em\" rx=\"8\" ry=\"8\" stroke=\"none\" stroke-width=\"1\" width=\"20%\" x=\"80%\" y=\"3em\" /><rect fill=\"green\" fill-opacity=\"0.15\" height=\"1.5em\" rx=\"8\" ry=\"8\" stroke=\"none\" stroke-width=\"1\" width=\"20%\" x=\"60%\" y=\"6em\" /><rect fill=\"green\" fill-opacity=\"0.15\" height=\"1.5em\" rx=\"8\" ry=\"8\" stroke=\"none\" stroke-width=\"1\" width=\"20%\" x=\"80%\" y=\"3em\" /><rect fill=\"green\" fill-opacity=\"0.15\" height=\"1.5em\" rx=\"8\" ry=\"8\" stroke=\"none\" stroke-width=\"1\" width=\"20%\" x=\"60%\" y=\"6em\" /></svg></svg><svg height=\"100%\" width=\"100%\" x=\"0\" y=\"174.5\"><defs /><text style=\"font-family: times, serif; font-weight:normal; font-style: italic; font-size: 13px;\" text-anchor=\"middle\" x=\"50%\" y=\"1em\">All the different elimination orders in which Desert wins.</text></svg></svg></svg><svg height=\"56.5\" width=\"338.0\" x=\"409.0\" y=\"0\"><defs /><svg baseProfile=\"full\" height=\"56.5px\" preserveAspectRatio=\"xMidYMid meet\" version=\"1.1\" viewBox=\"0,0,338.0,56.5\" width=\"338px\" xmlns=\"http://www.w3.org/2000/svg\" xmlns:ev=\"http://www.w3.org/2001/xml-events\" xmlns:xlink=\"http://www.w3.org/1999/xlink\"><defs /><svg height=\"24.0\" width=\"64.0\" x=\"137.0\" y=\"0\"><defs /><svg baseProfile=\"full\" height=\"24px\" preserveAspectRatio=\"xMidYMid meet\" style=\"font-family: times, serif; font-weight:normal; font-style: normal; font-size: 16px;\" version=\"1.1\" viewBox=\"0,0,64.0,24.0\" width=\"64px\" xmlns=\"http://www.w3.org/2000/svg\" xmlns:ev=\"http://www.w3.org/2001/xml-events\" xmlns:xlink=\"http://www.w3.org/1999/xlink\"><defs /><svg width=\"100%\" x=\"0\" y=\"0em\"><defs /><text text-anchor=\"middle\" x=\"50%\" y=\"1em\">Canyon</text></svg><rect fill=\"green\" fill-opacity=\"0.15\" height=\"1.5em\" rx=\"8\" ry=\"8\" stroke=\"none\" stroke-width=\"1\" width=\"100%\" x=\"0%\" y=\"0em\" /><rect fill=\"green\" fill-opacity=\"0.15\" height=\"1.5em\" rx=\"8\" ry=\"8\" stroke=\"none\" stroke-width=\"1\" width=\"100%\" x=\"0%\" y=\"0em\" /></svg></svg><svg height=\"100%\" width=\"100%\" x=\"0\" y=\"30.5\"><defs /><text style=\"font-family: times, serif; font-weight:normal; font-style: italic; font-size: 13px;\" text-anchor=\"middle\" x=\"50%\" y=\"1em\">Exclude all elimination orders in which Canyon wins.</text></svg></svg></svg></svg></svg><svg height=\"200.5\" width=\"370.5\" x=\"0\" y=\"232.5\"><defs /><svg baseProfile=\"full\" height=\"200.5px\" preserveAspectRatio=\"xMidYMid meet\" version=\"1.1\" viewBox=\"0,0,370.5,200.5\" width=\"370.5px\" xmlns=\"http://www.w3.org/2000/svg\" xmlns:ev=\"http://www.w3.org/2001/xml-events\" xmlns:xlink=\"http://www.w3.org/1999/xlink\"><defs /><svg height=\"168.0\" width=\"320.0\" x=\"25.25\" y=\"0\"><defs /><svg baseProfile=\"full\" height=\"168px\" preserveAspectRatio=\"xMidYMid meet\" style=\"font-family: times, serif; font-weight:normal; font-style: normal; font-size: 16px;\" version=\"1.1\" viewBox=\"0,0,320.0,168.0\" width=\"320px\" xmlns=\"http://www.w3.org/2000/svg\" xmlns:ev=\"http://www.w3.org/2001/xml-events\" xmlns:xlink=\"http://www.w3.org/1999/xlink\"><defs /><svg width=\"100%\" x=\"0\" y=\"0em\"><defs /><text text-anchor=\"middle\" x=\"50%\" y=\"1em\">Beach</text></svg><svg width=\"40%\" x=\"0%\" y=\"3em\"><defs /><svg width=\"100%\" x=\"0\" y=\"0em\"><defs /><text text-anchor=\"middle\" x=\"50%\" y=\"1em\">Alpine</text></svg><svg width=\"50%\" x=\"0%\" y=\"3em\"><defs /><svg width=\"100%\" x=\"0\" y=\"0em\"><defs /><text text-anchor=\"middle\" x=\"50%\" y=\"1em\">Canyon</text></svg><svg width=\"100%\" x=\"0%\" y=\"3em\"><defs /><svg width=\"100%\" x=\"0\" y=\"0em\"><defs /><text text-anchor=\"middle\" x=\"50%\" y=\"1em\">Desert</text></svg></svg><line stroke=\"black\" x1=\"50%\" x2=\"50%\" y1=\"1.2em\" y2=\"3em\" /></svg><line stroke=\"black\" x1=\"50%\" x2=\"25%\" y1=\"1.2em\" y2=\"3em\" /><svg width=\"50%\" x=\"50%\" y=\"3em\"><defs /><svg width=\"100%\" x=\"0\" y=\"0em\"><defs /><text text-anchor=\"middle\" x=\"50%\" y=\"1em\">Desert</text></svg><svg width=\"100%\" x=\"0%\" y=\"3em\"><defs /><svg width=\"100%\" x=\"0\" y=\"0em\"><defs /><text text-anchor=\"middle\" x=\"50%\" y=\"1em\">Canyon</text></svg></svg><line stroke=\"black\" x1=\"50%\" x2=\"50%\" y1=\"1.2em\" y2=\"3em\" /></svg><line stroke=\"black\" x1=\"50%\" x2=\"75%\" y1=\"1.2em\" y2=\"3em\" /></svg><line stroke=\"black\" x1=\"50%\" x2=\"20%\" y1=\"1.2em\" y2=\"3em\" /><svg width=\"20%\" x=\"40%\" y=\"3em\"><defs /><svg width=\"100%\" x=\"0\" y=\"0em\"><defs /><text text-anchor=\"middle\" x=\"50%\" y=\"1em\">Canyon</text></svg></svg><line stroke=\"black\" x1=\"50%\" x2=\"50%\" y1=\"1.2em\" y2=\"3em\" /><svg width=\"40%\" x=\"60%\" y=\"3em\"><defs /><svg width=\"100%\" x=\"0\" y=\"0em\"><defs /><text text-anchor=\"middle\" x=\"50%\" y=\"1em\">Desert</text></svg><svg width=\"50%\" x=\"0%\" y=\"3em\"><defs /><svg width=\"100%\" x=\"0\" y=\"0em\"><defs /><text text-anchor=\"middle\" x=\"50%\" y=\"1em\">Alpine</text></svg><svg width=\"100%\" x=\"0%\" y=\"3em\"><defs /><svg width=\"100%\" x=\"0\" y=\"0em\"><defs /><text text-anchor=\"middle\" x=\"50%\" y=\"1em\">Canyon</text></svg></svg><line stroke=\"black\" x1=\"50%\" x2=\"50%\" y1=\"1.2em\" y2=\"3em\" /></svg><line stroke=\"black\" x1=\"50%\" x2=\"25%\" y1=\"1.2em\" y2=\"3em\" /><svg width=\"50%\" x=\"50%\" y=\"3em\"><defs /><svg width=\"100%\" x=\"0\" y=\"0em\"><defs /><text text-anchor=\"middle\" x=\"50%\" y=\"1em\">Canyon</text></svg></svg><line stroke=\"black\" x1=\"50%\" x2=\"75%\" y1=\"1.2em\" y2=\"3em\" /></svg><line stroke=\"black\" x1=\"50%\" x2=\"80%\" y1=\"1.2em\" y2=\"3em\" /><rect fill=\"green\" fill-opacity=\"0.15\" height=\"1.5em\" rx=\"8\" ry=\"8\" stroke=\"none\" stroke-width=\"1\" width=\"20%\" x=\"40%\" y=\"3em\" /><rect fill=\"green\" fill-opacity=\"0.15\" height=\"1.5em\" rx=\"8\" ry=\"8\" stroke=\"none\" stroke-width=\"1\" width=\"20%\" x=\"80%\" y=\"6em\" /><rect fill=\"green\" fill-opacity=\"0.15\" height=\"1.5em\" rx=\"8\" ry=\"8\" stroke=\"none\" stroke-width=\"1\" width=\"20%\" x=\"40%\" y=\"3em\" /><rect fill=\"green\" fill-opacity=\"0.15\" height=\"1.5em\" rx=\"8\" ry=\"8\" stroke=\"none\" stroke-width=\"1\" width=\"20%\" x=\"80%\" y=\"6em\" /></svg></svg><svg height=\"100%\" width=\"100%\" x=\"0\" y=\"174.5\"><defs /><text style=\"font-family: times, serif; font-weight:normal; font-style: italic; font-size: 13px;\" text-anchor=\"middle\" x=\"50%\" y=\"1em\">All the different elimination orders in which Beach wins.</text></svg></svg></svg></svg></svg><svg height=\"100%\" width=\"100%\" x=\"0\" y=\"455.5\"><defs /><text style=\"font-family: times, serif; font-weight:normal; font-style: italic; font-size: 13px;\" text-anchor=\"middle\" x=\"50%\" y=\"1em\">Green pruned subtrees excluded by WO(Canyon, Alpine).  Alpine can't be eliminated before Canyon</text></svg></svg>"
      ],
      "text/plain": [
       "<svgling.figure.Caption at 0x7f5f0c18aef0>"
      ]
     },
     "execution_count": 7,
     "metadata": {},
     "output_type": "execute_result"
    }
   ],
   "source": [
    "qrtree1 = (\"Beach\", (\"Alpine\", (\"Canyon\", \"Desert\"), (\"Desert\", \"Canyon\")),\"Canyon\",(\"Desert\", (\"Alpine\", \"Canyon\"), \"Canyon\"))\n",
    "out1 = svgling.draw_tree(qrtree1)\n",
    "out1.box_constituent((1,),fill=\"green\")\n",
    "out1.box_constituent((2,1),fill=\"green\")\n",
    "out1 = Caption(out1, \"All the different elimination orders in which Beach wins.\")\n",
    "\n",
    "qrtree2 = (\"Canyon\")\n",
    "out2 = svgling.draw_tree(qrtree2)\n",
    "out2.box_constituent((),fill=\"green\")\n",
    "out2 = Caption(out2, \"Exclude all elimination orders in which Canyon wins.\")\n",
    "\n",
    "qrtree3 = (\"Desert\", (\"Alpine\", (\"Beach\", \"Canyon\"), (\"Canyon\", \"Beach\")),(\"Beach\", (\"Alpine\", \"Canyon\"),\"Canyon\"),\"Canyon\")\n",
    "out3 = svgling.draw_tree(qrtree3)\n",
    "out3.box_constituent((2,),fill=\"green\")\n",
    "out3.box_constituent((1,1),fill=\"green\")\n",
    "out3 = Caption(out3, \"All the different elimination orders in which Desert wins.\")\n",
    "\n",
    "Caption(RowByRow(SideBySide(out3, out2), out1), \"Green pruned subtrees excluded by WO(Canyon, Alpine).  Alpine can't be eliminated before Canyon\")"
   ]
  },
  {
   "cell_type": "markdown",
   "metadata": {},
   "source": [
    "Now consider Winner-only (WO) comparison between Alpine and Desert - WO(Desert,Alpine).  Desert has only 4 mentions (not counting votes that prefer Alpine).  That's less than Alpine's first preference count of 20.  So Alpine cannot be eliminated before Desert."
   ]
  },
  {
   "cell_type": "code",
   "execution_count": 8,
   "metadata": {
    "jupyter": {
     "source_hidden": true
    }
   },
   "outputs": [
    {
     "data": {
      "image/svg+xml": [
       "<svg baseProfile=\"full\" height=\"337.5px\" preserveAspectRatio=\"xMidYMid meet\" version=\"1.1\" viewBox=\"0,0,903.5,337.5\" width=\"903.5px\" xmlns=\"http://www.w3.org/2000/svg\" xmlns:ev=\"http://www.w3.org/2001/xml-events\" xmlns:xlink=\"http://www.w3.org/1999/xlink\"><defs /><svg height=\"305.0\" width=\"756.5\" x=\"73.5\" y=\"0\"><defs /><svg baseProfile=\"full\" height=\"305px\" preserveAspectRatio=\"xMidYMid meet\" version=\"1.1\" viewBox=\"0,0,756.5,305.0\" width=\"756.5px\" xmlns=\"http://www.w3.org/2000/svg\" xmlns:ev=\"http://www.w3.org/2001/xml-events\" xmlns:xlink=\"http://www.w3.org/1999/xlink\"><defs /><svg height=\"56.5\" width=\"756.5\" x=\"0\" y=\"16\"><defs /><svg baseProfile=\"full\" height=\"56.5px\" preserveAspectRatio=\"xMidYMid meet\" version=\"1.1\" viewBox=\"0,0,756.5,56.5\" width=\"756.5px\" xmlns=\"http://www.w3.org/2000/svg\" xmlns:ev=\"http://www.w3.org/2001/xml-events\" xmlns:xlink=\"http://www.w3.org/1999/xlink\"><defs /><svg height=\"56.5\" width=\"370.5\" x=\"16\" y=\"0\"><defs /><svg baseProfile=\"full\" height=\"56.5px\" preserveAspectRatio=\"xMidYMid meet\" version=\"1.1\" viewBox=\"0,0,338.0,56.5\" width=\"338px\" xmlns=\"http://www.w3.org/2000/svg\" xmlns:ev=\"http://www.w3.org/2001/xml-events\" xmlns:xlink=\"http://www.w3.org/1999/xlink\"><defs /><svg height=\"24.0\" width=\"64.0\" x=\"137.0\" y=\"0\"><defs /><svg baseProfile=\"full\" height=\"24px\" preserveAspectRatio=\"xMidYMid meet\" style=\"font-family: times, serif; font-weight:normal; font-style: normal; font-size: 16px;\" version=\"1.1\" viewBox=\"0,0,64.0,24.0\" width=\"64px\" xmlns=\"http://www.w3.org/2000/svg\" xmlns:ev=\"http://www.w3.org/2001/xml-events\" xmlns:xlink=\"http://www.w3.org/1999/xlink\"><defs /><svg width=\"100%\" x=\"0\" y=\"0em\"><defs /><text text-anchor=\"middle\" x=\"50%\" y=\"1em\">Desert</text></svg><rect fill=\"blue\" fill-opacity=\"0.15\" height=\"1.5em\" rx=\"8\" ry=\"8\" stroke=\"none\" stroke-width=\"1\" width=\"100%\" x=\"0%\" y=\"0em\" /><rect fill=\"blue\" fill-opacity=\"0.15\" height=\"1.5em\" rx=\"8\" ry=\"8\" stroke=\"none\" stroke-width=\"1\" width=\"100%\" x=\"0%\" y=\"0em\" /></svg></svg><svg height=\"100%\" width=\"100%\" x=\"0\" y=\"30.5\"><defs /><text style=\"font-family: times, serif; font-weight:normal; font-style: italic; font-size: 13px;\" text-anchor=\"middle\" x=\"50%\" y=\"1em\">Exclude all elimination orders in which Desert wins.</text></svg></svg></svg><svg height=\"56.5\" width=\"338.0\" x=\"402.5\" y=\"0\"><defs /><svg baseProfile=\"full\" height=\"56.5px\" preserveAspectRatio=\"xMidYMid meet\" version=\"1.1\" viewBox=\"0,0,338.0,56.5\" width=\"338px\" xmlns=\"http://www.w3.org/2000/svg\" xmlns:ev=\"http://www.w3.org/2001/xml-events\" xmlns:xlink=\"http://www.w3.org/1999/xlink\"><defs /><svg height=\"24.0\" width=\"64.0\" x=\"137.0\" y=\"0\"><defs /><svg baseProfile=\"full\" height=\"24px\" preserveAspectRatio=\"xMidYMid meet\" style=\"font-family: times, serif; font-weight:normal; font-style: normal; font-size: 16px;\" version=\"1.1\" viewBox=\"0,0,64.0,24.0\" width=\"64px\" xmlns=\"http://www.w3.org/2000/svg\" xmlns:ev=\"http://www.w3.org/2001/xml-events\" xmlns:xlink=\"http://www.w3.org/1999/xlink\"><defs /><svg width=\"100%\" x=\"0\" y=\"0em\"><defs /><text text-anchor=\"middle\" x=\"50%\" y=\"1em\">Canyon</text></svg><rect fill=\"green\" fill-opacity=\"0.15\" height=\"1.5em\" rx=\"8\" ry=\"8\" stroke=\"none\" stroke-width=\"1\" width=\"100%\" x=\"0%\" y=\"0em\" /><rect fill=\"green\" fill-opacity=\"0.15\" height=\"1.5em\" rx=\"8\" ry=\"8\" stroke=\"none\" stroke-width=\"1\" width=\"100%\" x=\"0%\" y=\"0em\" /></svg></svg><svg height=\"100%\" width=\"100%\" x=\"0\" y=\"30.5\"><defs /><text style=\"font-family: times, serif; font-weight:normal; font-style: italic; font-size: 13px;\" text-anchor=\"middle\" x=\"50%\" y=\"1em\">Exclude all elimination orders in which Canyon wins.</text></svg></svg></svg></svg></svg><svg height=\"200.5\" width=\"370.5\" x=\"0\" y=\"88.5\"><defs /><svg baseProfile=\"full\" height=\"200.5px\" preserveAspectRatio=\"xMidYMid meet\" version=\"1.1\" viewBox=\"0,0,370.5,200.5\" width=\"370.5px\" xmlns=\"http://www.w3.org/2000/svg\" xmlns:ev=\"http://www.w3.org/2001/xml-events\" xmlns:xlink=\"http://www.w3.org/1999/xlink\"><defs /><svg height=\"168.0\" width=\"256.0\" x=\"57.25\" y=\"0\"><defs /><svg baseProfile=\"full\" height=\"168px\" preserveAspectRatio=\"xMidYMid meet\" style=\"font-family: times, serif; font-weight:normal; font-style: normal; font-size: 16px;\" version=\"1.1\" viewBox=\"0,0,256.0,168.0\" width=\"256px\" xmlns=\"http://www.w3.org/2000/svg\" xmlns:ev=\"http://www.w3.org/2001/xml-events\" xmlns:xlink=\"http://www.w3.org/1999/xlink\"><defs /><svg width=\"100%\" x=\"0\" y=\"0em\"><defs /><text text-anchor=\"middle\" x=\"50%\" y=\"1em\">Beach</text></svg><svg width=\"50%\" x=\"0%\" y=\"3em\"><defs /><svg width=\"100%\" x=\"0\" y=\"0em\"><defs /><text text-anchor=\"middle\" x=\"50%\" y=\"1em\">Alpine</text></svg><svg width=\"50%\" x=\"0%\" y=\"3em\"><defs /><svg width=\"100%\" x=\"0\" y=\"0em\"><defs /><text text-anchor=\"middle\" x=\"50%\" y=\"1em\">Canyon</text></svg><svg width=\"100%\" x=\"0%\" y=\"3em\"><defs /><svg width=\"100%\" x=\"0\" y=\"0em\"><defs /><text text-anchor=\"middle\" x=\"50%\" y=\"1em\">Desert</text></svg></svg><line stroke=\"black\" x1=\"50%\" x2=\"50%\" y1=\"1.2em\" y2=\"3em\" /></svg><line stroke=\"black\" x1=\"50%\" x2=\"25%\" y1=\"1.2em\" y2=\"3em\" /><svg width=\"50%\" x=\"50%\" y=\"3em\"><defs /><svg width=\"100%\" x=\"0\" y=\"0em\"><defs /><text text-anchor=\"middle\" x=\"50%\" y=\"1em\">Desert</text></svg><svg width=\"100%\" x=\"0%\" y=\"3em\"><defs /><svg width=\"100%\" x=\"0\" y=\"0em\"><defs /><text text-anchor=\"middle\" x=\"50%\" y=\"1em\">Canyon</text></svg></svg><line stroke=\"black\" x1=\"50%\" x2=\"50%\" y1=\"1.2em\" y2=\"3em\" /></svg><line stroke=\"black\" x1=\"50%\" x2=\"75%\" y1=\"1.2em\" y2=\"3em\" /></svg><line stroke=\"black\" x1=\"50%\" x2=\"25%\" y1=\"1.2em\" y2=\"3em\" /><svg width=\"25%\" x=\"50%\" y=\"3em\"><defs /><svg width=\"100%\" x=\"0\" y=\"0em\"><defs /><text text-anchor=\"middle\" x=\"50%\" y=\"1em\">Canyon</text></svg></svg><line stroke=\"black\" x1=\"50%\" x2=\"62.5%\" y1=\"1.2em\" y2=\"3em\" /><svg width=\"25%\" x=\"75%\" y=\"3em\"><defs /><svg width=\"100%\" x=\"0\" y=\"0em\"><defs /><text text-anchor=\"middle\" x=\"50%\" y=\"1em\">Desert</text></svg></svg><line stroke=\"black\" x1=\"50%\" x2=\"87.5%\" y1=\"1.2em\" y2=\"3em\" /><rect fill=\"green\" fill-opacity=\"0.15\" height=\"1.5em\" rx=\"8\" ry=\"8\" stroke=\"none\" stroke-width=\"1\" width=\"25%\" x=\"50%\" y=\"3em\" /><rect fill=\"blue\" fill-opacity=\"0.15\" height=\"1.5em\" rx=\"8\" ry=\"8\" stroke=\"none\" stroke-width=\"1\" width=\"25%\" x=\"75%\" y=\"3em\" /><rect fill=\"green\" fill-opacity=\"0.15\" height=\"1.5em\" rx=\"8\" ry=\"8\" stroke=\"none\" stroke-width=\"1\" width=\"25%\" x=\"50%\" y=\"3em\" /><rect fill=\"blue\" fill-opacity=\"0.15\" height=\"1.5em\" rx=\"8\" ry=\"8\" stroke=\"none\" stroke-width=\"1\" width=\"25%\" x=\"75%\" y=\"3em\" /></svg></svg><svg height=\"100%\" width=\"100%\" x=\"0\" y=\"174.5\"><defs /><text style=\"font-family: times, serif; font-weight:normal; font-style: italic; font-size: 13px;\" text-anchor=\"middle\" x=\"50%\" y=\"1em\">All the different elimination orders in which Beach wins.</text></svg></svg></svg></svg></svg><svg height=\"100%\" width=\"100%\" x=\"0\" y=\"311.5\"><defs /><text style=\"font-family: times, serif; font-weight:normal; font-style: italic; font-size: 13px;\" text-anchor=\"middle\" x=\"50%\" y=\"1em\">Green pruned blue trees excluded by WO(Canyon, Alpine) and blue for WO(Desert, Alpine).  Alpine can't be eliminated before Canyon or Desert</text></svg></svg>"
      ],
      "text/plain": [
       "<svgling.figure.Caption at 0x7f5f0c1e79e8>"
      ]
     },
     "execution_count": 8,
     "metadata": {},
     "output_type": "execute_result"
    }
   ],
   "source": [
    "qrtree1 = (\"Beach\", (\"Alpine\", (\"Canyon\", \"Desert\"), (\"Desert\", \"Canyon\")),\"Canyon\",\"Desert\")\n",
    "out1 = svgling.draw_tree(qrtree1)\n",
    "out1.box_constituent((1,),fill=\"green\")\n",
    "out1.box_constituent((2,),fill=\"blue\")\n",
    "out1 = Caption(out1, \"All the different elimination orders in which Beach wins.\")\n",
    "\n",
    "qrtree2 = (\"Canyon\")\n",
    "out2 = svgling.draw_tree(qrtree2)\n",
    "out2.box_constituent((),fill=\"green\")\n",
    "out2 = Caption(out2, \"Exclude all elimination orders in which Canyon wins.\")\n",
    "\n",
    "qrtree3 = (\"Desert\")\n",
    "out3 = svgling.draw_tree(qrtree3)\n",
    "out3.box_constituent((),fill=\"blue\")\n",
    "out3 = Caption(out3, \"Exclude all elimination orders in which Desert wins.\")\n",
    "\n",
    "Caption(RowByRow(SideBySide(out3, out2), out1), \"Green pruned blue trees excluded by WO(Canyon, Alpine) and blue for WO(Desert, Alpine).  Alpine can't be eliminated before Canyon or Desert\")"
   ]
  },
  {
   "cell_type": "markdown",
   "metadata": {},
   "source": [
    "Finally, WO(Beach,Alpine) doesn't work, because Beach has 25 mentions.  We need to test the last IRV round and compare only Beach, Alpine. This is written as IRV(Beach, Alpine, {Alpine})."
   ]
  },
  {
   "cell_type": "code",
   "execution_count": 10,
   "metadata": {
    "jupyter": {
     "source_hidden": true
    }
   },
   "outputs": [
    {
     "data": {
      "image/svg+xml": [
       "<svg baseProfile=\"full\" height=\"241.5px\" preserveAspectRatio=\"xMidYMid meet\" version=\"1.1\" viewBox=\"0,0,741.0,241.5\" width=\"741px\" xmlns=\"http://www.w3.org/2000/svg\" xmlns:ev=\"http://www.w3.org/2001/xml-events\" xmlns:xlink=\"http://www.w3.org/1999/xlink\"><defs /><svg height=\"209.0\" width=\"724.0\" x=\"8.5\" y=\"0\"><defs /><svg baseProfile=\"full\" height=\"209px\" preserveAspectRatio=\"xMidYMid meet\" version=\"1.1\" viewBox=\"0,0,724.0,209.0\" width=\"724px\" xmlns=\"http://www.w3.org/2000/svg\" xmlns:ev=\"http://www.w3.org/2001/xml-events\" xmlns:xlink=\"http://www.w3.org/1999/xlink\"><defs /><svg height=\"56.5\" width=\"724.0\" x=\"0\" y=\"16\"><defs /><svg baseProfile=\"full\" height=\"56.5px\" preserveAspectRatio=\"xMidYMid meet\" version=\"1.1\" viewBox=\"0,0,724.0,56.5\" width=\"724px\" xmlns=\"http://www.w3.org/2000/svg\" xmlns:ev=\"http://www.w3.org/2001/xml-events\" xmlns:xlink=\"http://www.w3.org/1999/xlink\"><defs /><svg height=\"56.5\" width=\"338.0\" x=\"16\" y=\"0\"><defs /><svg baseProfile=\"full\" height=\"56.5px\" preserveAspectRatio=\"xMidYMid meet\" version=\"1.1\" viewBox=\"0,0,338.0,56.5\" width=\"338px\" xmlns=\"http://www.w3.org/2000/svg\" xmlns:ev=\"http://www.w3.org/2001/xml-events\" xmlns:xlink=\"http://www.w3.org/1999/xlink\"><defs /><svg height=\"24.0\" width=\"64.0\" x=\"137.0\" y=\"0\"><defs /><svg baseProfile=\"full\" height=\"24px\" preserveAspectRatio=\"xMidYMid meet\" style=\"font-family: times, serif; font-weight:normal; font-style: normal; font-size: 16px;\" version=\"1.1\" viewBox=\"0,0,64.0,24.0\" width=\"64px\" xmlns=\"http://www.w3.org/2000/svg\" xmlns:ev=\"http://www.w3.org/2001/xml-events\" xmlns:xlink=\"http://www.w3.org/1999/xlink\"><defs /><svg width=\"100%\" x=\"0\" y=\"0em\"><defs /><text text-anchor=\"middle\" x=\"50%\" y=\"1em\">Desert</text></svg><rect fill=\"blue\" fill-opacity=\"0.15\" height=\"1.5em\" rx=\"8\" ry=\"8\" stroke=\"none\" stroke-width=\"1\" width=\"100%\" x=\"0%\" y=\"0em\" /><rect fill=\"blue\" fill-opacity=\"0.15\" height=\"1.5em\" rx=\"8\" ry=\"8\" stroke=\"none\" stroke-width=\"1\" width=\"100%\" x=\"0%\" y=\"0em\" /></svg></svg><svg height=\"100%\" width=\"100%\" x=\"0\" y=\"30.5\"><defs /><text style=\"font-family: times, serif; font-weight:normal; font-style: italic; font-size: 13px;\" text-anchor=\"middle\" x=\"50%\" y=\"1em\">Exclude all elimination orders in which Desert wins.</text></svg></svg></svg><svg height=\"56.5\" width=\"338.0\" x=\"370.0\" y=\"0\"><defs /><svg baseProfile=\"full\" height=\"56.5px\" preserveAspectRatio=\"xMidYMid meet\" version=\"1.1\" viewBox=\"0,0,338.0,56.5\" width=\"338px\" xmlns=\"http://www.w3.org/2000/svg\" xmlns:ev=\"http://www.w3.org/2001/xml-events\" xmlns:xlink=\"http://www.w3.org/1999/xlink\"><defs /><svg height=\"24.0\" width=\"64.0\" x=\"137.0\" y=\"0\"><defs /><svg baseProfile=\"full\" height=\"24px\" preserveAspectRatio=\"xMidYMid meet\" style=\"font-family: times, serif; font-weight:normal; font-style: normal; font-size: 16px;\" version=\"1.1\" viewBox=\"0,0,64.0,24.0\" width=\"64px\" xmlns=\"http://www.w3.org/2000/svg\" xmlns:ev=\"http://www.w3.org/2001/xml-events\" xmlns:xlink=\"http://www.w3.org/1999/xlink\"><defs /><svg width=\"100%\" x=\"0\" y=\"0em\"><defs /><text text-anchor=\"middle\" x=\"50%\" y=\"1em\">Canyon</text></svg><rect fill=\"green\" fill-opacity=\"0.15\" height=\"1.5em\" rx=\"8\" ry=\"8\" stroke=\"none\" stroke-width=\"1\" width=\"100%\" x=\"0%\" y=\"0em\" /><rect fill=\"green\" fill-opacity=\"0.15\" height=\"1.5em\" rx=\"8\" ry=\"8\" stroke=\"none\" stroke-width=\"1\" width=\"100%\" x=\"0%\" y=\"0em\" /></svg></svg><svg height=\"100%\" width=\"100%\" x=\"0\" y=\"30.5\"><defs /><text style=\"font-family: times, serif; font-weight:normal; font-style: italic; font-size: 13px;\" text-anchor=\"middle\" x=\"50%\" y=\"1em\">Exclude all elimination orders in which Canyon wins.</text></svg></svg></svg></svg></svg><svg height=\"104.5\" width=\"331.5\" x=\"0\" y=\"88.5\"><defs /><svg baseProfile=\"full\" height=\"104.5px\" preserveAspectRatio=\"xMidYMid meet\" version=\"1.1\" viewBox=\"0,0,331.5,104.5\" width=\"331.5px\" xmlns=\"http://www.w3.org/2000/svg\" xmlns:ev=\"http://www.w3.org/2001/xml-events\" xmlns:xlink=\"http://www.w3.org/1999/xlink\"><defs /><svg height=\"72.0\" width=\"192.0\" x=\"69.75\" y=\"0\"><defs /><svg baseProfile=\"full\" height=\"72px\" preserveAspectRatio=\"xMidYMid meet\" style=\"font-family: times, serif; font-weight:normal; font-style: normal; font-size: 16px;\" version=\"1.1\" viewBox=\"0,0,192.0,72.0\" width=\"192px\" xmlns=\"http://www.w3.org/2000/svg\" xmlns:ev=\"http://www.w3.org/2001/xml-events\" xmlns:xlink=\"http://www.w3.org/1999/xlink\"><defs /><svg width=\"100%\" x=\"0\" y=\"0em\"><defs /><text text-anchor=\"middle\" x=\"50%\" y=\"1em\">Beach</text></svg><svg width=\"33.3333%\" x=\"0%\" y=\"3em\"><defs /><svg width=\"100%\" x=\"0\" y=\"0em\"><defs /><text text-anchor=\"middle\" x=\"50%\" y=\"1em\">Alpine</text></svg></svg><line stroke=\"black\" x1=\"50%\" x2=\"16.6667%\" y1=\"1.2em\" y2=\"3em\" /><svg width=\"33.3333%\" x=\"33.3333%\" y=\"3em\"><defs /><svg width=\"100%\" x=\"0\" y=\"0em\"><defs /><text text-anchor=\"middle\" x=\"50%\" y=\"1em\">Canyon</text></svg></svg><line stroke=\"black\" x1=\"50%\" x2=\"50%\" y1=\"1.2em\" y2=\"3em\" /><svg width=\"33.3333%\" x=\"66.6667%\" y=\"3em\"><defs /><svg width=\"100%\" x=\"0\" y=\"0em\"><defs /><text text-anchor=\"middle\" x=\"50%\" y=\"1em\">Desert</text></svg></svg><line stroke=\"black\" x1=\"50%\" x2=\"83.3333%\" y1=\"1.2em\" y2=\"3em\" /><rect fill=\"none\" fill-opacity=\"0.15\" height=\"1.5em\" rx=\"8\" ry=\"8\" stroke=\"purple\" stroke-width=\"4\" width=\"33.3333%\" x=\"0%\" y=\"3em\" /><rect fill=\"green\" fill-opacity=\"0.15\" height=\"1.5em\" rx=\"8\" ry=\"8\" stroke=\"none\" stroke-width=\"1\" width=\"33.3333%\" x=\"33.3333%\" y=\"3em\" /><rect fill=\"blue\" fill-opacity=\"0.15\" height=\"1.5em\" rx=\"8\" ry=\"8\" stroke=\"none\" stroke-width=\"1\" width=\"33.3333%\" x=\"66.6667%\" y=\"3em\" /><rect fill=\"none\" fill-opacity=\"0.15\" height=\"1.5em\" rx=\"8\" ry=\"8\" stroke=\"purple\" stroke-width=\"4\" width=\"33.3333%\" x=\"0%\" y=\"3em\" /><rect fill=\"green\" fill-opacity=\"0.15\" height=\"1.5em\" rx=\"8\" ry=\"8\" stroke=\"none\" stroke-width=\"1\" width=\"33.3333%\" x=\"33.3333%\" y=\"3em\" /><rect fill=\"blue\" fill-opacity=\"0.15\" height=\"1.5em\" rx=\"8\" ry=\"8\" stroke=\"none\" stroke-width=\"1\" width=\"33.3333%\" x=\"66.6667%\" y=\"3em\" /></svg></svg><svg height=\"100%\" width=\"100%\" x=\"0\" y=\"78.5\"><defs /><text style=\"font-family: times, serif; font-weight:normal; font-style: italic; font-size: 13px;\" text-anchor=\"middle\" x=\"50%\" y=\"1em\">Exclude all elimination orders in which Beach wins.</text></svg></svg></svg></svg></svg><svg height=\"100%\" width=\"100%\" x=\"0\" y=\"215.5\"><defs /><text style=\"font-family: times, serif; font-weight:normal; font-style: italic; font-size: 13px;\" text-anchor=\"middle\" x=\"50%\" y=\"1em\">Complete exclusion of all cases in which Alpine doesn't win.  IRV(Beach,Alpine,{Alpine}) is shown as a purple box.</text></svg></svg>"
      ],
      "text/plain": [
       "<svgling.figure.Caption at 0x7f5f0c1574e0>"
      ]
     },
     "execution_count": 10,
     "metadata": {},
     "output_type": "execute_result"
    }
   ],
   "source": [
    "qrtree1 = (\"Beach\",\"Alpine\",\"Canyon\",\"Desert\")\n",
    "out1 = svgling.draw_tree(qrtree1)\n",
    "out1.box_constituent((0,),fill=\"none\",stroke_width=4, stroke=\"purple\")\n",
    "out1.box_constituent((1,),fill=\"green\")\n",
    "out1.box_constituent((2,),fill=\"blue\")\n",
    "out1 = Caption(out1, \"Exclude all elimination orders in which Beach wins.\")\n",
    "\n",
    "qrtree2 = (\"Canyon\")\n",
    "out2 = svgling.draw_tree(qrtree2)\n",
    "out2.box_constituent((),fill=\"green\")\n",
    "out2 = Caption(out2, \"Exclude all elimination orders in which Canyon wins.\")\n",
    "\n",
    "qrtree3 = (\"Desert\")\n",
    "out3 = svgling.draw_tree(qrtree3)\n",
    "out3.box_constituent((),fill=\"blue\")\n",
    "out3 = Caption(out3, \"Exclude all elimination orders in which Desert wins.\")\n",
    "\n",
    "Caption(RowByRow(SideBySide(out3, out2), out1), \"Complete exclusion of all cases in which Alpine doesn't win.  IRV(Beach,Alpine,{Alpine}) is shown as a purple box.\")"
   ]
  },
  {
   "cell_type": "markdown",
   "metadata": {},
   "source": [
    "Now the auditing begins!  We use Risk Limiting Audits to test all three assertions: WO(Canyon,Alpine), WO(Desert,Alpine) and IRV(Beach, Alpine, {Alpine}) simultaneously."
   ]
  },
  {
   "cell_type": "code",
   "execution_count": null,
   "metadata": {
    "jupyter": {
     "source_hidden": true
    }
   },
   "outputs": [],
   "source": []
  }
 ],
 "metadata": {
  "kernelspec": {
   "display_name": "Python 3",
   "language": "python",
   "name": "python3"
  },
  "language_info": {
   "codemirror_mode": {
    "name": "ipython",
    "version": 3
   },
   "file_extension": ".py",
   "mimetype": "text/x-python",
   "name": "python",
   "nbconvert_exporter": "python",
   "pygments_lexer": "ipython3",
   "version": "3.7.3"
  }
 },
 "nbformat": 4,
 "nbformat_minor": 2
}
