{
 "cells": [
  {
   "cell_type": "code",
   "execution_count": 1,
   "metadata": {
    "jupyter": {
     "source_hidden": true
    },
    "scrolled": false
   },
   "outputs": [
    {
     "name": "stdout",
     "output_type": "stream",
     "text": [
      "Apparent winner: 7\n",
      "Apparently eliminated: ['15', '14', '13', '16', '12', '17', '5', '0', '3', '1', '8', '10', '2', '4', '6', '9', '11']\n",
      "\n",
      "\n",
      "Built 17 trees to visualise excluded alternate winners.\n"
     ]
    }
   ],
   "source": [
    "import json\n",
    "import svgling\n",
    "from svgling.figure import Caption, SideBySide, RowByRow\n",
    "from IRVVisualisationUtils import treeListToTuple, parseAssertions, printAssertions, buildRemainingTreeAsLists, buildPrintedResults, printTrees\n",
    "\n",
    "a_file = open(\"../AssertionJSON/SanFran_2007.json\")\n",
    "auditfile = json.load(a_file)\n",
    "        \n",
    "(apparentWinner, apparentNonWinners, WOLosers,IRVElims) = parseAssertions(auditfile)\n",
    "                \n",
    "elimTrees = buildPrintedResults(apparentWinner, apparentNonWinners, WOLosers,IRVElims)\n",
    "\n",
    "print(\"Built \"+str(len(elimTrees))+\" trees to visualise excluded alternate winners.\")\n",
    "\n"
   ]
  },
  {
   "cell_type": "markdown",
   "metadata": {},
   "source": [
    "# RAIRE example assertion parser and visualizer\n",
    "\n",
    "This notebook parses and visualizes RAIRE assertions.\n",
    "Right now it's hardcoded to read RAIRE_sample_audit1.json, but you can change that.\n",
    "Start by executing the rectangle above to understand the election and the apparent winner.\n",
    "The audit needs to exclude all the other possible winners, though we don't care about other elimination orders in which the apparent winner still wins.\n",
    "Execute the next code snippet to see the trees of possible alternative elimination orders.\n",
    "Each tree will be pruned according to RAIRE's assertions, with each pruned branch tagged with the assertion that allowed us to exclude it.\n",
    "You (the auditor) need to check that all the leaves end in an assertion, which shows that they have been excluded.\n"
   ]
  },
  {
   "cell_type": "code",
   "execution_count": 7,
   "metadata": {
    "jupyter": {
     "source_hidden": true
    }
   },
   "outputs": [
    {
     "ename": "NameError",
     "evalue": "name 'printTrees' is not defined",
     "output_type": "error",
     "traceback": [
      "\u001b[0;31m---------------------------------------------------------------------------\u001b[0m",
      "\u001b[0;31mNameError\u001b[0m                                 Traceback (most recent call last)",
      "\u001b[0;32m<ipython-input-7-29af3630b7a9>\u001b[0m in \u001b[0;36m<module>\u001b[0;34m\u001b[0m\n\u001b[1;32m      2\u001b[0m \u001b[0;31m#Caption(RowByRow(RowByRow(RowByRow(elimTrees[0],elimTrees[1]),RowByRow(elimTrees[2],elimTrees[3])),RowByRow(elimTrees[4],elimTrees[5])   ), \"Whole trees excluded.\")\u001b[0m\u001b[0;34m\u001b[0m\u001b[0;34m\u001b[0m\u001b[0;34m\u001b[0m\u001b[0m\n\u001b[1;32m      3\u001b[0m \u001b[0;31m#Caption(RowByRow(RowByRow(RowByRow(RowByRow(elimTrees[0],elimTrees[1]),elimTrees[2]),elimTrees[3])),\"Whole trees excluded.\")\u001b[0m\u001b[0;34m\u001b[0m\u001b[0;34m\u001b[0m\u001b[0;34m\u001b[0m\u001b[0m\n\u001b[0;32m----> 4\u001b[0;31m \u001b[0mCaption\u001b[0m\u001b[0;34m(\u001b[0m\u001b[0mprintTrees\u001b[0m\u001b[0;34m(\u001b[0m\u001b[0melimTrees\u001b[0m\u001b[0;34m)\u001b[0m\u001b[0;34m,\u001b[0m\u001b[0;34m\"Whole trees excluded.\"\u001b[0m\u001b[0;34m)\u001b[0m\u001b[0;34m\u001b[0m\u001b[0;34m\u001b[0m\u001b[0m\n\u001b[0m",
      "\u001b[0;31mNameError\u001b[0m: name 'printTrees' is not defined"
     ]
    }
   ],
   "source": [
    "Caption(printTrees(elimTrees),\"Trees showing how other winners are excluded.\")\n"
   ]
  },
  {
   "cell_type": "markdown",
   "metadata": {},
   "source": [
    "Now print all the assertions.  This gives you an explanation of the meaning of each one.\n"
   ]
  },
  {
   "cell_type": "code",
   "execution_count": 3,
   "metadata": {
    "jupyter": {
     "source_hidden": true
    }
   },
   "outputs": [
    {
     "name": "stdout",
     "output_type": "stream",
     "text": [
      "Not-Eliminated-Before assertions: \n",
      "NEB  0: Candidates {'7'} cannot be eliminated before 6.\n",
      "NEB  1: Candidates {'7'} cannot be eliminated before 4.\n",
      "NEB  2: Candidates {'7'} cannot be eliminated before 2.\n",
      "NEB  3: Candidates {'7'} cannot be eliminated before 11.\n",
      "NEB  4: Candidates {'7'} cannot be eliminated before 9.\n",
      "NEB  5: Candidates {'7'} cannot be eliminated before 17.\n",
      "NEB  6: Candidates {'7'} cannot be eliminated before 0.\n",
      "NEB  7: Candidates {'7'} cannot be eliminated before 1.\n",
      "NEB  8: Candidates {'7'} cannot be eliminated before 5.\n",
      "NEB  9: Candidates {'7'} cannot be eliminated before 8.\n",
      "NEB 10: Candidates {'7'} cannot be eliminated before 10.\n",
      "NEB 11: Candidates {'7'} cannot be eliminated before 12.\n",
      "NEB 12: Candidates {'7'} cannot be eliminated before 13.\n",
      "NEB 13: Candidates {'7'} cannot be eliminated before 14.\n",
      "NEB 14: Candidates {'7'} cannot be eliminated before 15.\n",
      "NEB 15: Candidates {'7'} cannot be eliminated before 16.\n",
      "NEB 16: Candidates {'7'} cannot be eliminated before 3.\n",
      "\n",
      "\n",
      "Not-Eliminated-Next assertions: \n"
     ]
    }
   ],
   "source": [
    "printAssertions(WOLosers,IRVElims)"
   ]
  },
  {
   "cell_type": "markdown",
   "metadata": {},
   "source": [
    "Now the audit begins! We now apply a Risk Limiting Audit to test each of the assertions above.\n",
    "For each assertion, we consider the opposite hypothesis, that candidate C *can* be eliminated at that point. We then try to audit until that hypothesis can be rejected.  If all the hypotheses are rejected, the election result is declared correct.  At any time, if the audit has failed to reject all the hypotheses, a full manual recount can be conducted.\n"
   ]
  }
 ],
 "metadata": {
  "kernelspec": {
   "display_name": "Python 3",
   "language": "python",
   "name": "python3"
  },
  "language_info": {
   "codemirror_mode": {
    "name": "ipython",
    "version": 3
   },
   "file_extension": ".py",
   "mimetype": "text/x-python",
   "name": "python",
   "nbconvert_exporter": "python",
   "pygments_lexer": "ipython3",
   "version": "3.7.3"
  }
 },
 "nbformat": 4,
 "nbformat_minor": 2
}
