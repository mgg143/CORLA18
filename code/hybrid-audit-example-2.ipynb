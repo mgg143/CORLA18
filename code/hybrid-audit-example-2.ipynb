{
 "cells": [
  {
   "cell_type": "code",
   "execution_count": 1,
   "metadata": {},
   "outputs": [],
   "source": [
    "from __future__ import division, print_function\n",
    "%matplotlib inline\n",
    "import matplotlib\n",
    "import matplotlib.pyplot as plt\n",
    "\n",
    "import math\n",
    "import numpy as np\n",
    "import numpy.random\n",
    "import scipy as sp\n",
    "import scipy.stats\n",
    "\n",
    "from ballot_comparison import findNmin_ballot_comparison_rates, ballot_comparison_pvalue\n",
    "from hypergeometric import trihypergeometric_optim, simulate_ballot_polling_power\n",
    "from fishers_combination import fisher_combined_pvalue, maximize_fisher_combined_pvalue, \\\n",
    "     create_modulus\n",
    "from sprt import ballot_polling_sprt"
   ]
  },
  {
   "cell_type": "markdown",
   "metadata": {},
   "source": [
    "# Example of a hybrid audit in a large election with an exact tie\n",
    "\n",
    "The numbers in this example may not be realistic, but serve as an example of what would happen in a tie election.\n",
    "\n",
    "There are two strata. One contains every CVR county and the other contains every no-CVR county.\n",
    "There were 2 million ballots cast in the election, 1.9 million in the CVR stratum and 100,000 in the no-CVR stratum.\n",
    "\n",
    "The reported vote margin between A and B is 22,000 votes, a \"diluted margin\" of just over $1\\%$.\n",
    "\n",
    "\n",
    "Candidate | Reported Stratum 1 |  Reported Stratum 2 | Reported total \n",
    "---|---|---|---\n",
    "A | 960,000 | 51,000 | 1,011,000\n",
    "B | 940,000 | 49,000 | 989,000\n",
    "Ballots | 1,900,000 | 100,000 | 2,000,000\n",
    "Diluted margin | 1.05% | 2% | 1.1%\n",
    "\n",
    "Assume there are only ballots for A and B.\n",
    "In each stratum, the A reportedly received more votes than B, but they *actually* received exactly the same number.\n",
    "In the CVR stratum, there were 960,000 votes reported for A and 940,000 votes reported for candidate B, a margin of 20,000 votes.\n",
    "In the no-CVR stratum, there were 51,000 votes reported for A and 49,000 votes for B, a margin of 2,000 votes.\n",
    "\n",
    "If for every $\\lambda$, we can reject the conjunction hypothesis that the overstatement of the reported \n",
    "margin in the CVR stratum is $22000\\lambda$ votes or more *and* the overstatement of the reported margin in the no-CVR stratum $22000(1-\\lambda)$ votes or more, the audit can stop. "
   ]
  },
  {
   "cell_type": "code",
   "execution_count": 2,
   "metadata": {},
   "outputs": [],
   "source": [
    "alpha = 0.05\n",
    "reported_margin = 22000\n",
    "actual_margin = 0\n",
    "N1 = 1900000\n",
    "N2 = 100000"
   ]
  },
  {
   "cell_type": "markdown",
   "metadata": {},
   "source": [
    "# Using Fisher's method to combine audits\n",
    "\n",
    "Even if we use large sample sizes in each stratum, the conclusion of Fisher's method will be to escalate the audit. In this case, we use sample sizes of $500$ in the CVR stratum and $1000$ in the no-CVR stratum. The Fisher's combined $p$-value has a maximum value of $100\\%$, so we cannot confirm the reported results at risk limit $5\\%$."
   ]
  },
  {
   "cell_type": "code",
   "execution_count": 3,
   "metadata": {},
   "outputs": [],
   "source": [
    "n1 = 500\n",
    "n2 = 1000\n",
    "\n",
    "N_w1 = int(N1/2)\n",
    "N_l1 = int(N1/2)\n",
    "N_w2 = int(N2/2)\n",
    "N_l2 = int(N2/2)\n",
    "\n",
    "cvr_pvalue = lambda alloc: ballot_comparison_pvalue(n=n1, gamma=1.03905, o1=0, u1=0, \n",
    "                                                    o2=int(0.005*n1), u2=0, \n",
    "                                                    reported_margin=reported_margin, N=N1, \n",
    "                                                    null_lambda=alloc)\n",
    "nocvr_pvalue = lambda alloc: \\\n",
    "    ballot_polling_sprt(sample= np.array([0]*int(n2*N_l2/N2)+\\\n",
    "                                             [1]*int(n2*N_w2/N2)+\\\n",
    "                                             [np.nan]*int(n2*(N2-N_l2-N_w2)/N2)), \\\n",
    "                            popsize=N2, \\\n",
    "                            alpha=0.05,  # set this param but we don't need to use it\n",
    "                            Vw=N_w2, \\\n",
    "                            Vl=N_l2, \\\n",
    "                            null_margin=(N_w2-N_l2) - alloc*reported_margin)['pvalue']\n",
    "\n",
    "mod = create_modulus(n1=n1, n2=n2, n_w2=int(n2*N_w2/N2), n_l2=int(n2*N_l2/N2), \n",
    "                     N1=N1, V_wl=reported_margin, gamma=1.03905)\n",
    "\n"
   ]
  },
  {
   "cell_type": "code",
   "execution_count": 4,
   "metadata": {},
   "outputs": [
    {
     "data": {
      "text/plain": [
       "{'max_pvalue': 1.0,\n",
       " 'min_chisq': 0.0,\n",
       " 'allocation lambda': 1.0000000000001563,\n",
       " 'tol': None,\n",
       " 'stepsize': 0.05,\n",
       " 'refined': False}"
      ]
     },
     "execution_count": 4,
     "metadata": {},
     "output_type": "execute_result"
    }
   ],
   "source": [
    "maximize_fisher_combined_pvalue(N_w1, N_l1, N1, N_w2, N_l2, N2,\n",
    "                                pvalue_funs = (cvr_pvalue, nocvr_pvalue), \n",
    "                                stepsize=0.05, modulus=None, alpha=0.05, \n",
    "                                feasible_lambda_range=(-10, 10))"
   ]
  }
 ],
 "metadata": {
  "kernelspec": {
   "display_name": "Python 3",
   "language": "python",
   "name": "python3"
  },
  "language_info": {
   "codemirror_mode": {
    "name": "ipython",
    "version": 3
   },
   "file_extension": ".py",
   "mimetype": "text/x-python",
   "name": "python",
   "nbconvert_exporter": "python",
   "pygments_lexer": "ipython3",
   "version": "3.7.1"
  }
 },
 "nbformat": 4,
 "nbformat_minor": 2
}
