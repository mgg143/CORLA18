{
 "cells": [
  {
   "cell_type": "markdown",
   "metadata": {},
   "source": [
    "# Hybrid audit examples"
   ]
  },
  {
   "cell_type": "code",
   "execution_count": 1,
   "metadata": {},
   "outputs": [],
   "source": [
    "from __future__ import division, print_function\n",
    "%matplotlib inline\n",
    "import matplotlib\n",
    "import matplotlib.pyplot as plt\n",
    "\n",
    "import math\n",
    "import numpy as np\n",
    "import numpy.random\n",
    "import scipy as sp\n",
    "import scipy.stats\n",
    "\n",
    "from ballot_comparison import findNmin_ballot_comparison_rates\n",
    "from hypergeometric import trihypergeometric_optim, simulate_ballot_polling_power\n",
    "from fishers_combination import simulate_fisher_combined_audit, calculate_lambda_range"
   ]
  },
  {
   "cell_type": "markdown",
   "metadata": {},
   "source": [
    "# Example 1 - medium sized election, close race\n",
    "\n",
    "There are two strata. One contains every CVR county and the other contains every no-CVR county.\n",
    "There were 110,000 ballots cast in the election, 100,000 in the CVR stratum and 10,000 in the no-CVR stratum.\n",
    "\n",
    "In the CVR stratum, there were 45,500 votes reported for A, 49,500 votes for candidate B, and 5,000 invalid ballots.\n",
    "In the no-CVR stratum, there were 7,500 votes reported for A, 1,500 votes for B, and 1000 invalid ballots.\n",
    "A won overall, with 53,000 votes to B's 51,000, but not in the CVR stratum.\n",
    "The reported vote margin between A and B is 2,000 votes, a \"diluted margin\" of $2,000/110,000 = 1.8\\%$.\n",
    "\n",
    "\n",
    "Candidate | Stratum 1 | Stratum 2 | total \n",
    "---|---|---|---\n",
    "A | 45,500 | 7,500 | 53,000\n",
    "B | 49,500 | 1,500 | 51,000\n",
    "Ballots | 100,000 | 10,000 | 110,000\n",
    "Diluted margin | -4% | 60% | 1.8%\n",
    "\n",
    "\n",
    "The reported outcome of the election is correct if, for every $\\lambda$, either the overstatement of the margin in the CVR stratum is less than $2000\\lambda$ votes or the overstatement of the margin in the no-CVR stratum is less than $2000(1-\\lambda)$ votes. \n",
    "\n",
    "We want to limit the risk of certifying an incorrect outcome to at most $\\alpha=10\\%$. "
   ]
  },
  {
   "cell_type": "markdown",
   "metadata": {},
   "source": [
    "# Using Fisher's method to combine the audits"
   ]
  },
  {
   "cell_type": "code",
   "execution_count": 2,
   "metadata": {},
   "outputs": [],
   "source": [
    "alpha = 0.1\n",
    "\n",
    "N_w1 = 45500\n",
    "N_l1 = 49500\n",
    "N_w2 = 7500\n",
    "N_l2 = 1500\n",
    "N1 = 100000\n",
    "N2 = 10000\n",
    "margin = (N_w1 + N_w2 - N_l1 - N_l2)"
   ]
  },
  {
   "cell_type": "code",
   "execution_count": 3,
   "metadata": {},
   "outputs": [
    {
     "data": {
      "text/plain": [
       "(-7.0, 3.0)"
      ]
     },
     "execution_count": 3,
     "metadata": {},
     "output_type": "execute_result"
    }
   ],
   "source": [
    "calculate_lambda_range(N_w1, N_l1, N1, N_w2, N_l2, N2)"
   ]
  },
  {
   "cell_type": "markdown",
   "metadata": {},
   "source": [
    "By plotting the Fisher's combined $p$-value along a grid, we determined that the Fisher's combined $p$-value is maximized somewhere on $[0, 1]$. Below, we restrict the search to that region."
   ]
  },
  {
   "cell_type": "code",
   "execution_count": 4,
   "metadata": {},
   "outputs": [
    {
     "name": "stdout",
     "output_type": "stream",
     "text": [
      "In 10000 simulations with a CVR stratum sample size of 700 ballots and         \n",
      " no-CVR stratum sample size of 500 ballots, the rate of stopping the audit is  0.9438\n"
     ]
    }
   ],
   "source": [
    "np.random.seed(20180514)\n",
    "\n",
    "n1 = 750\n",
    "n2 = 500\n",
    "\n",
    "power = simulate_fisher_combined_audit(N_w1, N_l1, N1, N_w2, N_l2, N2, n1, n2, alpha,\n",
    "    reps=10000, feasible_lambda_range=(-7.0, 3.0))\n",
    "print(\"In 10000 simulations with a CVR stratum sample size of 700 ballots and \\\n",
    "        \\n no-CVR stratum sample size of 500 ballots, the rate of stopping the audit is \", \\\n",
    "      power)"
   ]
  },
  {
   "cell_type": "markdown",
   "metadata": {},
   "source": [
    "# What if we could do a ballot-comparison audit for the entire contest?\n",
    "\n",
    "With current technology, this isn't possible. We'll use a risk limit of 10% to be consistent with the example above."
   ]
  },
  {
   "cell_type": "code",
   "execution_count": 5,
   "metadata": {},
   "outputs": [
    {
     "data": {
      "text/plain": [
       "263.0"
      ]
     },
     "execution_count": 5,
     "metadata": {},
     "output_type": "execute_result"
    }
   ],
   "source": [
    "# Assuming that the audit will find no errors\n",
    "findNmin_ballot_comparison_rates(alpha=alpha, gamma=1.03905, \n",
    "                                r1=0, s1=0, r2=0, s2=0,\n",
    "                                reported_margin=margin, N=N1+N2, \n",
    "                                null_lambda=1)"
   ]
  },
  {
   "cell_type": "code",
   "execution_count": 6,
   "metadata": {},
   "outputs": [
    {
     "data": {
      "text/plain": [
       "284.0"
      ]
     },
     "execution_count": 6,
     "metadata": {},
     "output_type": "execute_result"
    }
   ],
   "source": [
    "# Assuming that the audit will find 1-vote overstatements at rate 0.1%\n",
    "findNmin_ballot_comparison_rates(alpha=alpha, gamma=1.03905, \n",
    "                                r1=0.001, s1=0, r2=0, s2=0,\n",
    "                                reported_margin=margin, N=N1+N2, \n",
    "                                null_lambda=1)"
   ]
  },
  {
   "cell_type": "markdown",
   "metadata": {},
   "source": [
    "# Instead, what if we did an inefficient approach?\n",
    "\n",
    "In Section 2.3 of the paper, we suggest a simple-but-pessimistic approach: sample uniformly from all counties as if one were performing a ballot-level comparison audit everywhere, but to treat any ballot selected from a legacy county as a two-vote overstatement.\n",
    "\n",
    "In this example, $10,000/1,100,000 \\approx 9\\%$ of ballots come from the no-CVR stratum. We find that we'd proceed to a full hand count."
   ]
  },
  {
   "cell_type": "code",
   "execution_count": 7,
   "metadata": {},
   "outputs": [
    {
     "data": {
      "text/plain": [
       "nan"
      ]
     },
     "execution_count": 7,
     "metadata": {},
     "output_type": "execute_result"
    }
   ],
   "source": [
    "# Assuming that the audit will find no errors\n",
    "findNmin_ballot_comparison_rates(alpha=alpha, gamma=1.03905, \n",
    "                                r1=0, s1=0, r2=N1/(N1+N2), s2=0,\n",
    "                                reported_margin=margin, N=N1+N2, null_lambda=1)"
   ]
  },
  {
   "cell_type": "markdown",
   "metadata": {},
   "source": [
    "If, instead, the margin were a bit larger (in this example, let's say 10,000 votes) and the no-CVR counties made up only 1.2% of total ballots, things would be more favorable."
   ]
  },
  {
   "cell_type": "code",
   "execution_count": 8,
   "metadata": {},
   "outputs": [
    {
     "data": {
      "text/plain": [
       "430.0"
      ]
     },
     "execution_count": 8,
     "metadata": {},
     "output_type": "execute_result"
    }
   ],
   "source": [
    "# Assuming that the audit will find no errors\n",
    "findNmin_ballot_comparison_rates(alpha=alpha, gamma=1.03905, \n",
    "                                r1=0, s1=0, r2=0.012, s2=0,\n",
    "                                reported_margin=10000, N=N1+N2, null_lambda=1)"
   ]
  },
  {
   "cell_type": "markdown",
   "metadata": {
    "collapsed": true
   },
   "source": [
    "# Example 2 - large election, large margin\n",
    "\n",
    "There are two strata. One contains every CVR county and the other contains every no-CVR county.\n",
    "There were 2 million ballots cast in the election, 1.9 million in the CVR stratum and 100,000 in the no-CVR stratum.\n",
    "\n",
    "In the CVR stratum, the diluted margin was $21\\%$: there were 1,102,000 votes reported for A, 703,000 votes reported for candidate B, and 76,000 invalid ballots.\n",
    "In the no-CVR stratum, the diluted margin was $-10\\%$: there were 42,500 votes reported for A, 52,500 votes for B, and 5,000 invalid ballots.\n",
    "A won overall, with 1,144,500 votes to B's 755,500, but not in the CVR stratum.\n",
    "The reported vote margin between A and B is 389,000 votes, a \"diluted margin\" of $389,000/2,000,000 = 19.45\\%$.\n",
    "\n",
    "\n",
    "Candidate | Stratum 1 | Stratum 2 | total \n",
    "---|---|---|---\n",
    "A | 1,102,000 | 42,500 | 1,144,500\n",
    "B | 703,000 |  52,500 | 755,500\n",
    "Ballots | 1,900,000 | 100,000 | 2,000,000\n",
    "Diluted margin | 21% | -10% | 19.45%\n",
    "\n",
    "\n",
    "\n",
    "We want to limit the risk of certifying an incorrect outcome to at most $\\alpha=5\\%$. \n"
   ]
  },
  {
   "cell_type": "markdown",
   "metadata": {},
   "source": [
    "# Using Fisher's method to combine the audits"
   ]
  },
  {
   "cell_type": "code",
   "execution_count": 9,
   "metadata": {},
   "outputs": [],
   "source": [
    "alpha = 0.05\n",
    "N1 = 1900000\n",
    "N2 = 100000\n",
    "N_w1 = 1102000\n",
    "N_l1 = 703000\n",
    "N_w2 = 42500\n",
    "N_l2= 52500\n",
    "margin = (N_w1 + N_w2 - N_l1 - N_l2)"
   ]
  },
  {
   "cell_type": "code",
   "execution_count": 10,
   "metadata": {},
   "outputs": [
    {
     "data": {
      "text/plain": [
       "(0.7686375321336761, 1.2827763496143958)"
      ]
     },
     "execution_count": 10,
     "metadata": {},
     "output_type": "execute_result"
    }
   ],
   "source": [
    "calculate_lambda_range(N_w1, N_l1, N1, N_w2, N_l2, N2)"
   ]
  },
  {
   "cell_type": "markdown",
   "metadata": {},
   "source": [
    "By plotting the Fisher's combined $p$-value along a grid, we determined that the Fisher's combined $p$-value is maximized somewhere on $[0.5, 1.5]$. Below, we restrict the search to that region."
   ]
  },
  {
   "cell_type": "code",
   "execution_count": 11,
   "metadata": {},
   "outputs": [
    {
     "name": "stdout",
     "output_type": "stream",
     "text": [
      "In 10,000 simulations with a CVR stratum sample size of 50 ballots \n",
      " and no-CVR stratum sample size of 25 ballots, the rate of stopping the audit is  0.9328\n"
     ]
    }
   ],
   "source": [
    "np.random.seed(20180514)\n",
    "n1 = 50\n",
    "n2 = 25\n",
    "power = simulate_fisher_combined_audit(N_w1, N_l1, N1, N_w2, N_l2, N2, n1, n2, alpha,\n",
    "    reps=10000, feasible_lambda_range = (0.5, 2))\n",
    "print(\"In 10,000 simulations with a CVR stratum sample size of 50 ballots \\n \\\n",
    "and no-CVR stratum sample size of 25 ballots, the rate of stopping the audit is \", \\\n",
    "      power)"
   ]
  },
  {
   "cell_type": "markdown",
   "metadata": {},
   "source": [
    "# What if we could do a ballot-comparison audit for the entire contest?\n",
    "\n",
    "With current technology, this isn't possible. "
   ]
  },
  {
   "cell_type": "code",
   "execution_count": 12,
   "metadata": {},
   "outputs": [
    {
     "data": {
      "text/plain": [
       "31.0"
      ]
     },
     "execution_count": 12,
     "metadata": {},
     "output_type": "execute_result"
    }
   ],
   "source": [
    "# Assuming that the audit will find no errors\n",
    "findNmin_ballot_comparison_rates(alpha=alpha, gamma=1.03905, \n",
    "                                r1=0, s1=0, r2=0, s2=0,\n",
    "                                reported_margin=margin, N=N1+N2, null_lambda=1)"
   ]
  },
  {
   "cell_type": "code",
   "execution_count": 13,
   "metadata": {},
   "outputs": [
    {
     "data": {
      "text/plain": [
       "31.0"
      ]
     },
     "execution_count": 13,
     "metadata": {},
     "output_type": "execute_result"
    }
   ],
   "source": [
    "# Assuming that the audit will find 1-vote overstatements at rate 0.1%\n",
    "findNmin_ballot_comparison_rates(alpha=alpha, gamma=1.03905, \n",
    "                                r1=0.001, s1=0, r2=0, s2=0,\n",
    "                                reported_margin=margin, N=N1+N2, null_lambda=1)"
   ]
  },
  {
   "cell_type": "markdown",
   "metadata": {},
   "source": [
    "# Instead, what if we did an inefficient approach?\n",
    "\n",
    "In Section 2.3 of the paper, we suggest a simple-but-pessimistic approach: sample uniformly from all counties as if one were performing a ballot-level comparison audit everywhere, but to treat any ballot selected from a legacy county as a two-vote overstatement.\n",
    "\n",
    "In this example, $100,000/2,000,000 = 5\\%$ of ballots come from the no-CVR stratum. That is large enough\n",
    "that if we treat all ballots sampled from the no-CVR stratum as 2-vote overstatemnts, the audit would be expected to require a full hand count. "
   ]
  },
  {
   "cell_type": "code",
   "execution_count": 14,
   "metadata": {},
   "outputs": [
    {
     "data": {
      "text/plain": [
       "nan"
      ]
     },
     "execution_count": 14,
     "metadata": {},
     "output_type": "execute_result"
    }
   ],
   "source": [
    "# Assuming that the audit will find no errors\n",
    "findNmin_ballot_comparison_rates(alpha=alpha, gamma=1.03905, \n",
    "                                r1=0, s1=0, r2=N1/(N1+N2), s2=0,\n",
    "                                reported_margin=margin, N=N1+N2, null_lambda=1)"
   ]
  }
 ],
 "metadata": {
  "kernelspec": {
   "display_name": "Python 3",
   "language": "python",
   "name": "python3"
  },
  "language_info": {
   "codemirror_mode": {
    "name": "ipython",
    "version": 3
   },
   "file_extension": ".py",
   "mimetype": "text/x-python",
   "name": "python",
   "nbconvert_exporter": "python",
   "pygments_lexer": "ipython3",
   "version": "3.7.1"
  }
 },
 "nbformat": 4,
 "nbformat_minor": 2
}
