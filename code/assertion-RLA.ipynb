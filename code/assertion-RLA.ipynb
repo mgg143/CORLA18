{
 "cells": [
  {
   "cell_type": "markdown",
   "metadata": {},
   "source": [
    "# Assertion RLA"
   ]
  },
  {
   "cell_type": "markdown",
   "metadata": {},
   "source": [
    "Tool to audit generalized assertions about contests, including assertions for RLAs of IRV contests.\n",
    "\n",
    "This tool can audit any number of contests simultaneously using the same sample.\n",
    "The contests can be audited to different risk limits.\n",
    "The contests can have different social choice functions, including majority or super-majority,\n",
    "plurality, multi-winner plurality, and IRV.\n",
    "\n",
    "The audit is \"simultaneous\" across contests in the following sense: \n",
    "\n",
    ">If the reported outcome of a contest is incorrect, the chance that the audit stops without a full hand count is at most the risk limit for that contest. \n",
    "\n",
    "The sample is drawn as a random sample of individual ballots, with or without replacement, from a single pool of all ballots cast in the contest(s).\n",
    "\n",
    "The tool requires as input:\n",
    "\n",
    "+ audit-specific and contest-specific parameters, such as\n",
    "    - whether to sample with or without replacement\n",
    "    - a risk limit for each contest to be audited\n",
    "    - the social choice function for each contest, including the number of winners\n",
    "    - candidate identifiers\n",
    "+ a ballot manifest\n",
    "+ a random seed\n",
    "+ a file of cast vote records\n",
    "+ reported results for each contest\n",
    "+ assertions about each contest\n",
    "+ human reading of voter intent from the paper ballots selected for audit\n",
    "\n",
    "The tool helps select ballots for audit, and reports when the audit has found sufficiently strong evidence to stop.\n",
    "\n",
    "The tool exports a log of all the audit inputs except the CVR file, but including the auditors' manually determined voter intent from the audited ballots."
   ]
  },
  {
   "cell_type": "code",
   "execution_count": 1,
   "metadata": {},
   "outputs": [],
   "source": [
    "from __future__ import division, print_function\n",
    "\n",
    "from ipywidgets import interact, interactive, fixed, interact_manual, Dropdown, Layout, Box\n",
    "import ipywidgets as widgets\n",
    "from IPython.display import display, HTML\n",
    "\n",
    "from collections import OrderedDict\n",
    "from itertools import product\n",
    "import math\n",
    "import json\n",
    "\n",
    "import numpy as np\n",
    "from ballot_comparison import ballot_comparison_pvalue\n",
    "from assertion_audit_utils import \\\n",
    "    Assertion, Assorter, CVR, \\\n",
    "    check_audit_parameters, write_audit_parameters, write_ballots_sampled\n",
    "\n",
    "from cryptorandom.cryptorandom import SHA256\n",
    "from cryptorandom.sample import sample_by_index\n",
    "\n",
    "from suite_tools import write_audit_results, \\\n",
    "        check_valid_vote_counts, \\\n",
    "        check_overvote_rates, find_winners_losers, print_reported_votes, \\\n",
    "        estimate_n, estimate_escalation_n, \\\n",
    "        parse_manifest, unique_manifest, find_ballot, \\\n",
    "        audit_contest"
   ]
  },
  {
   "cell_type": "markdown",
   "metadata": {},
   "source": [
    "# Audit parameters.\n",
    "\n",
    "* `seed`: the numeric seed for the pseudo-random number generator used to draw sample \n",
    "* `replacement`: whether to sample with replacement. If the sample is drawn with replacement, gamma must also be specified.\n",
    "* `gamma`: the gamma parameter used in the ballot-level comparison method from Lindeman and Stark (2012), based on Stark (2010). Require gamma $\\ge$ 1.\n",
    "gamma=1.03905 is a common value; it makes 2-vote overstatements \"cost\" 5 times more than 1-vote overstatements. Smaller values yield smaller sample sizes when there are no two-vote overstatement errors.\n",
    "* `N_ballots`: an upper bound on the number of ballots cast in the contest. This should be derived independently of the voting system.\n",
    "\n",
    "\n",
    "----\n",
    "\n",
    "* `cvr_file`: filename for CVRs (input)\n",
    "* `manifest_file`: filename for ballot manifest (input)\n",
    "* `assertion_file`: filename of assertions for IRV contests, in RAIRE format\n",
    "* `mvr_file`: filename for manually ascertained votes from sampled ballots (input)\n",
    "* `log_file`: filename for audit log (output)\n",
    "\n",
    "----\n",
    "\n",
    "* `error_rates`: dict of expected error rates. The keys are\n",
    "    + `o1_rate`: expected rate of 1-vote overstatements. Recommended value $\\ge$ 0.001 if there are hand-marked ballots. Larger values increase the initial sample size, but make it more likely that the audit will conclude in a single round if the audit finds errors\n",
    "    + `o2_rate`: expected rate of 2-vote overstatements. Recommended value 0.\n",
    "    + `u1_rate`: expected rate of 1-vote understatements. Recommended value 0.\n",
    "    + `u2_rate`: expected rate of 2-vote understatements. Recommended value 0.\n",
    "\n",
    "* `contests`: a dict of contest-specific data \n",
    "    + the keys are unique contest identifiers for contests under audit\n",
    "    + the values are dicts with keys:\n",
    "        - `risk_limit`: the risk limit for the audit of this contest\n",
    "        - `ballots_cast`: an upper bound on the number of cast ballots that contain the contest\n",
    "        - `choice_function`: `plurality`, `majority`, `super-majority`, or `IRV`\n",
    "        - `n_winners`: number of winners for majority contests. (Multi-winner IRV not supported; multi-winner super-majority is nonsense)\n",
    "        - `super_majority`: for super-majority contests, the fraction of valid votes required to win, e.g., 2/3. Super-majority contests can have at most two candidates.\n",
    "        - `candidates`: list of names or identifiers of candidates\n",
    "        - `reported_winners` : list of identifier(s) of candidate(s) reported to have won. Length should equal `n_winners`.\n",
    "        - `assertions`: a set of Assertions (see technical documentation) that collectively imply the reported outcome is correct"
   ]
  },
  {
   "cell_type": "code",
   "execution_count": 2,
   "metadata": {},
   "outputs": [],
   "source": [
    "seed = 12345678901234567890  # use, e.g., 20 rolls of a 10-sided die. Seed doesn't have to be numeric\n",
    "replacement = True  # Sampling without replacement isn't implemented\n",
    "gamma=1.03905\n",
    "N_ballots = 300000"
   ]
  },
  {
   "cell_type": "code",
   "execution_count": 3,
   "metadata": {},
   "outputs": [],
   "source": [
    "cvr_file = './Data/cvr.json'\n",
    "manifest_file = './Data/manifest.csv'\n",
    "assertion_file = './Data/assertion.csv'\n",
    "mvr_file = './Data/mvr.csv'\n",
    "log_file = './Data/log.json'"
   ]
  },
  {
   "cell_type": "code",
   "execution_count": 4,
   "metadata": {},
   "outputs": [],
   "source": [
    "error_rates = {'o1_rate':0.002,      # expect 2 1-vote overstatements per 1000 ballots in the CVR stratum\n",
    "               'o2_rate':0,          # expect 0 2-vote overstatements\n",
    "               'u1_rate':0,          # expect 0 1-vote understatements\n",
    "               'u2_rate':0}          # expect 0 2-vote understatements"
   ]
  },
  {
   "cell_type": "code",
   "execution_count": 5,
   "metadata": {},
   "outputs": [
    {
     "name": "stdout",
     "output_type": "stream",
     "text": [
      "{'Alice': 2, 'Bob': 1, 'Candy': 2, 'Dan': True, 'Ellie': 7}\n",
      "1\n"
     ]
    }
   ],
   "source": [
    "## TEST\n",
    "\n",
    "votes = {\"Alice\": 4, \"Bob\": 1, \"Candy\": 0, \"Dan\": ''}\n",
    "\n",
    "vv = {\"Candy\": 2, \"Dan\": True, \"Ellie\": 7, \"Alice\": 2}\n",
    "\n",
    "votes.update(vv)\n",
    "\n",
    "print(votes)\n",
    "\n",
    "winr = \"Alice\"\n",
    "winr_func = lambda c: int(bool(CVR.get_vote_from_votes(winr, c)))\n",
    "\n",
    "print(winr_func(votes))"
   ]
  },
  {
   "cell_type": "code",
   "execution_count": 9,
   "metadata": {},
   "outputs": [
    {
     "name": "stdout",
     "output_type": "stream",
     "text": [
      "{'Alice v Candy': <assertion_audit_utils.Assertion object at 0x11523f208>, 'Alice v Dan': <assertion_audit_utils.Assertion object at 0x11523fef0>, 'Bob v Candy': <assertion_audit_utils.Assertion object at 0x11523ff60>, 'Bob v Dan': <assertion_audit_utils.Assertion object at 0x11523ffd0>}\n",
      "{'Alice v all': <assertion_audit_utils.Assertion object at 0x11523f9b0>}\n",
      "1.1102230246251565e-16\n",
      "1.0\n",
      "-0.4999999999999999\n"
     ]
    }
   ],
   "source": [
    "winners = [\"Alice\",\"Bob\"]\n",
    "losers = [\"Candy\",\"Dan\"]\n",
    "assns = Assertion.make_plurality_assertions(winners, losers)\n",
    "print(assns)\n",
    "share_to_win = 2/3\n",
    "assn = Assertion.make_supermajority_assertion(\"Alice\", losers, share_to_win)\n",
    "print(assn)\n",
    "print(assn['Alice v all'].assorter.assort(votes))\n",
    "votes2 = {\"Alice\": True, \"Bob\": False, \"Candy\": 0, \"Dan\": ''}\n",
    "print(assn['Alice v all'].assorter.assort(votes2))\n",
    "votes3 = {\"Alice\": False, \"Bob\": 1, \"Candy\": 1, \"Dan\": ''}\n",
    "print(assn['Alice v all'].assorter.assort(votes3))\n"
   ]
  },
  {
   "cell_type": "code",
   "execution_count": null,
   "metadata": {},
   "outputs": [],
   "source": [
    "# contests to audit\n",
    "\n",
    "contests = {'mayor':{'risk_limit':0.05,\n",
    "                     'choice_function':'IRV',\n",
    "                     'n_winners':1,\n",
    "                     'candidates':['Alice','Bob','Cindy'],\n",
    "                     'reported_winners' : ['Alice']\n",
    "                    },\n",
    "            'city_council':{'risk_limit':0.05,\n",
    "                     'choice_function':'plurality',\n",
    "                     'n_winners':3,\n",
    "                     'candidates':['Doug','Emily','Frank','Gail','Harry'],\n",
    "                     'reported_winners' : ['Doug', 'Emily', 'Frank']\n",
    "                    },\n",
    "            'measure_1':{'risk_limit':0.05,\n",
    "                     'choice_function':'super-majority',\n",
    "                     'super_majority':2/3,\n",
    "                     'n_winners':1,\n",
    "                     'candidates':['yes','no'],\n",
    "                     'reported_winners' : ['yes']\n",
    "                    }                  \n",
    "           }"
   ]
  },
  {
   "cell_type": "code",
   "execution_count": null,
   "metadata": {},
   "outputs": [],
   "source": [
    "check_audit_parameters(gamma, error_rates, contests)\n",
    "write_audit_parameters(log_file, seed, replacement, gamma, N_ballots, error_rates, contests)"
   ]
  },
  {
   "cell_type": "markdown",
   "metadata": {},
   "source": [
    "## Read the CVRs and ballot manifest"
   ]
  },
  {
   "cell_type": "code",
   "execution_count": null,
   "metadata": {},
   "outputs": [],
   "source": [
    "# read the cast vote records\n",
    "with open(cvr_file, 'r') as f:\n",
    "    # do something\n",
    "    # cvrs = ???\n",
    "    pass\n",
    "\n",
    "# read the ballot manifest\n",
    "manifest = read_manifest_from_csv(manifest_file)"
   ]
  },
  {
   "cell_type": "markdown",
   "metadata": {},
   "source": [
    "## Find audit parameters and conduct audit\n",
    "\n",
    "* For each contest:\n",
    "    - find claimed outcome by applying SCF to CVRs\n",
    "    - complain if claimed outcome disagrees with reported outcome\n",
    "    - construct assertions that imply contest outcome is correct\n",
    "    - for each assertion:\n",
    "        + find generalized diluted margin\n",
    "        \n",
    "* Find initial (incremental) sample size from smallest diluted margin, for the sampling plan\n",
    "    - Complain if expected error rates imply any assertion is incorrect\n",
    "\n",
    "* For each assertion:\n",
    "    - Initialize discrepancy counts to zero (o1, o2, u1, u2)\n",
    "    - Initialize measured risk to 1\n",
    "* While measured risk for any assertion exceeds its risk limit:\n",
    "    - expand sample by estimated increment\n",
    "        + identify ballots in manifest\n",
    "        + update the log file with incremental sample\n",
    "    - import audit results when ballots have been audited\n",
    "    - for each assertion:\n",
    "        + for each sampled ballot:\n",
    "            - increment discrepancy count for the assertion\n",
    "        + find measured risk\n",
    "    - update log file with new measured risks\n",
    "    - if any measured risk exceeds its risk limit:\n",
    "        + estimate incremental sample required to complete the audit"
   ]
  },
  {
   "cell_type": "code",
   "execution_count": null,
   "metadata": {},
   "outputs": [],
   "source": [
    "# find contest results\n",
    "for c in contests.keys():\n",
    "    contests[c]['winners'] = find_winners(contests[c])"
   ]
  },
  {
   "cell_type": "code",
   "execution_count": null,
   "metadata": {},
   "outputs": [],
   "source": [
    "# expand the ballot manifest into a dict. keys are batches, values are ballot numbers.\n",
    "manifest = parse_manifest(ballot_manifest)\n",
    "poll_manifest_parsed = parse_manifest(ballot_manifest_poll)"
   ]
  },
  {
   "cell_type": "code",
   "execution_count": null,
   "metadata": {},
   "outputs": [],
   "source": [
    "# assign each ballot a unique ID\n",
    "unique_cvr_manifest = unique_manifest(cvr_manifest_parsed)"
   ]
  },
  {
   "cell_type": "code",
   "execution_count": null,
   "metadata": {},
   "outputs": [],
   "source": [
    "# look up sample ballots\n",
    "\n",
    "cvr_sample = []\n",
    "for s in sample1:\n",
    "    original_ballot_label, batch_label, which_ballot = find_ballot(s, \\\n",
    "                                                                   unique_cvr_manifest, \\\n",
    "                                                                   cvr_manifest_parsed)\n",
    "    cvr_sample.append([s, batch_label, which_ballot])\n",
    "\n",
    "cvr_sample.sort(key=lambda x: x[2]) # Sort second on order within batches\n",
    "cvr_sample.sort(key=lambda x: x[1]) # Sort first based on batch label\n",
    "cvr_sample.insert(0,[\"sampled ballot\", \"batch label\", \"which ballot in batch\"])\n",
    "\n",
    "display(HTML(\n",
    "    '<table><tr>{}</tr></table>'.format(\n",
    "        '</tr><tr>'.join(\n",
    "            '<td>{}</td>'.format('</td><td>'.join(str(_) for _ in row)) for row in cvr_sample)\n",
    "        )\n",
    " ))"
   ]
  },
  {
   "cell_type": "markdown",
   "metadata": {},
   "source": [
    "# Enter the sample data"
   ]
  },
  {
   "cell_type": "code",
   "execution_count": null,
   "metadata": {},
   "outputs": [],
   "source": [
    "# Find audit p-values across assertions"
   ]
  },
  {
   "cell_type": "code",
   "execution_count": null,
   "metadata": {},
   "outputs": [],
   "source": [
    "# Identify assertions not yet confirmed"
   ]
  },
  {
   "cell_type": "code",
   "execution_count": null,
   "metadata": {},
   "outputs": [],
   "source": [
    "# Log the status of the audit "
   ]
  },
  {
   "cell_type": "markdown",
   "metadata": {},
   "source": [
    "# Escalation: how many more ballots should be drawn?\n",
    "\n",
    "This tool estimates how many more ballots will need to be audited to confirm any remaining contests. The enlarged sample size is based on:\n",
    "\n",
    "* ballots already sampled\n",
    "* assumption that we will continue to see overstatements and understatements at the same rate that observed in the sample"
   ]
  },
  {
   "cell_type": "code",
   "execution_count": null,
   "metadata": {},
   "outputs": [],
   "source": [
    "sample_sizes_new = {}\n",
    "\n",
    "# TBD\n"
   ]
  },
  {
   "cell_type": "code",
   "execution_count": null,
   "metadata": {},
   "outputs": [],
   "source": []
  }
 ],
 "metadata": {
  "kernelspec": {
   "display_name": "Python 3",
   "language": "python",
   "name": "python3"
  },
  "language_info": {
   "codemirror_mode": {
    "name": "ipython",
    "version": 3
   },
   "file_extension": ".py",
   "mimetype": "text/x-python",
   "name": "python",
   "nbconvert_exporter": "python",
   "pygments_lexer": "ipython3",
   "version": "3.7.3"
  },
  "widgets": {
   "state": {
    "6cab9cab294247839758fa9e8d64d122": {
     "views": [
      {
       "cell_index": 42
      }
     ]
    },
    "b7b0321f834d45ebb1bdc036fba7a916": {
     "views": [
      {
       "cell_index": 38
      }
     ]
    }
   },
   "version": "1.2.0"
  }
 },
 "nbformat": 4,
 "nbformat_minor": 2
}
