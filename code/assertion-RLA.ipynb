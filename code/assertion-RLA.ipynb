{
 "cells": [
  {
   "cell_type": "markdown",
   "metadata": {},
   "source": [
    "# Assertion RLA"
   ]
  },
  {
   "cell_type": "markdown",
   "metadata": {},
   "source": [
    "Tool to audit generalized assertions about contests, including assertions for RLAs of IRV contests.\n",
    "\n",
    "This tool can audit any number of contests simultaneously using the same sample.\n",
    "The contests can be audited to different risk limits.\n",
    "The contests can have different social choice functions, including majority or super-majority,\n",
    "plurality, multi-winner plurality, and IRV.\n",
    "\n",
    "The audit is \"simultaneous\" across contests in the following sense: \n",
    "\n",
    ">If the reported outcome of a contest is incorrect, the chance that the audit stops without a full hand count is at most the risk limit for that contest. \n",
    "\n",
    "The sample is drawn as a random sample of individual ballots, with or without replacement, from a single pool of all ballots cast in the contest(s).\n",
    "\n",
    "The approach taken here uses a new abstract framing of RLAs.\n",
    "It involves constructing a set of _assertions_ about each contest. The assertions are predicates on the set of votes, that is, they are either true or false, depending on what votes the whole set of ballots shows. \n",
    "\n",
    "Each assertion is characterized by an _assorter_.  An assorter assigns a nonnegative number to each ballot, depending on what votes the ballot shows.\n",
    "\n",
    "For instance, in a two-candidate plurality contest in which Alice was reported to have beaten Bob, an assorter might assign the value 1 to a ballot if the ballot has a vote for Alice and the value 0 to a ballot if it has a vote for Bob.\n",
    "If every ballot has a vote either for Alice or for Bob, Alice beat Bob iff the average value of the assorter applied to all the ballots is greater than 1/2.\n",
    "\n",
    "What if there are undervotes, overvotes, or invalid ballots--or votes for other candidates? Let the assorter assign the value 1/2 to such ballots. Then it is still the case that Alice got more votes than Bob iff the average value of the assorter applied to all the ballots is greater than 1/2.\n",
    "\n",
    "### Multi-winner plurality\n",
    "\n",
    "The reported winner(s) of a (multi-winner) plurality contest really won if every reported winner got more votes than every reported loser.\n",
    "If we construct (#winners)x(#losers) assorters, one for each (winner, loser) pair, then the reported outcome is correct if the average each of assorter applied to the ballots is greater than 1/2.\n",
    "This is essentially the approach taken in Stark (20??) to reduce auditing multi-winner contests to auditing a set of two-candidate contests.\n",
    "\n",
    "\n",
    "### IRV\n",
    "\n",
    "Blom et al. (2018) show how to reduce the correctness of a reported IRV winner to the correctness of the reported winners of a set of two-\"generalized candidate\" contests\n",
    "The \"generalized candidates\" in those contests are not necessarily the candidates in the original contest; they are just two mutually exclusive (but not exhaustive) conditions that a ballot might satisfy.\n",
    "If the set of cast ballots has more ballots that satisfy the first condition than the second, the assertion is true.\n",
    "Thus if we define an assorter to assign 1 to ballots that satisfy the first condition, 0\n",
    "to ballots that satisfy the second condition, and 1/2 to ballots that satisfy neither,\n",
    "the assertion is true iff the average of the assorter over the collection of cast ballots\n",
    "is greater than 1/2.\n",
    "\n",
    "### Super-majority\n",
    "\n",
    "Suppose that a candidate must get at least a fraction $f \\in [1/2, 1)$ of the valid votes\n",
    "to win. Stark (20??) shows how to audit this social choice function, but it can also be expressed in terms of an assertion that the average of an assorter applied to the cast ballots is greater than 1/2.\n",
    "\n",
    "Alice really won a super-majority contest with required winning fraction $f$ iff\n",
    "\n",
    "$$ \\mbox{(votes for Alice)} > f \\times \\left ( \\mbox{(votes for Alice)} + \\mbox{(votes for everyone else)} \\right )\n",
    "$$\n",
    "\n",
    "$$  (1-f) \\times \\mbox{(votes for Alice)} > f \\times \\mbox{(votes for everyone else)} $$\n",
    "\n",
    "$$ \\frac{1-f}{f} \\times \\mbox{(votes for Alice)} > \\mbox{(votes for everyone else)}. $$\n",
    "\n",
    "Define an assorter as follows: it assigns the value $1/(2f)$ to a ballot if it contains\n",
    "a vote for Alice, the value 0 if the ballot contains a valid vote for any other candidate\n",
    "in the contest, and the value 1/2 if the ballot does not have a valid vote.\n",
    "Suppose that a fraction $p > f$ of the valid votes are for Alice, and that a fraction $q$ of\n",
    "the ballots have valid votes.\n",
    "Then the average of this assorter over the ballots is\n",
    "\n",
    "$$\n",
    "pq/(2f) + (1-q)/2 \\ge 2/2 + (1-q)/2 = 1/2.\n",
    "$$\n",
    "\n",
    "Again, using assorters reduces auditing to the question of whether the average of a list of non-negative\n",
    "numbers is greater than 1/2.\n",
    "   \n",
    "\n",
    "## Assertion audits\n",
    "\n",
    "A contest is audited to risk limit $\\alpha$ if the negation of each assertion about the \n",
    "contest can be rejected at significance level $\\alpha$.\n",
    "The audit of a contest continues until all the assertions about it have been established,\n",
    "or until there has been a full manual tally.\n",
    "\n",
    "The audit stops short of a full tally only if all the assertions are confirmed.\n",
    "The chance of confirming any assertion that is false is at most $\\alpha$, so if there\n",
    "are one or more false assertions (i.e., if the reported outcome is incorrect), \n",
    "the chance that the audit continues to a full hand\n",
    "count is at least $1-\\alpha$ (and possibly larger).\n",
    "\n",
    "We directly test whether the complement of an assertion is false by testing the hypothesis that the average of the assorter applied to the cast ballots is less than or equal to 1/2.\n",
    "\n",
    "## Ballot-polling assertion audits\n",
    "\n",
    "These are immediate. Each assertion can be tested by testing the hypothesis\n",
    "that the average of the assertion over the cast ballots is less than or equal to 1/2,\n",
    "for instance, using Wald's SPRT (as in BRAVO and Gentle Introduction), or some other method.\n",
    "\n",
    "## Ballot-comparison assertion audits\n",
    "\n",
    "Suppose that we apply the assorters for a contest to the CVRs, all of them have averages\n",
    "greater than 1/2.\n",
    "Then the assertions are true for the actual ballots\n",
    "provided the CVRs did not inflate the average value of the assorter by more than the _assorter margin_, the average of the assorter applied to the reported CVRs, minus 1/2.\n",
    "\n",
    "By how much could error in an individual CVR inflate the value of the assorter compared\n",
    "to the value the assorter would have for the actual ballot?\n",
    "Since the assorter does not assign a negative value to any ballot, the _overstatement error_\n",
    "for a CVR is at most the value the assorter assigned to that CVR.\n",
    "\n",
    "For each CVR $i$, \n",
    "\n"
   ]
  },
  {
   "cell_type": "markdown",
   "metadata": {},
   "source": [
    "## Overview of the assertion audit tool\n",
    "\n",
    "The tool requires as input:\n",
    "\n",
    "+ audit-specific and contest-specific parameters, such as\n",
    "    - whether to sample with or without replacement\n",
    "    - a risk limit for each contest to be audited\n",
    "    - the social choice function for each contest, including the number of winners\n",
    "    - candidate identifiers\n",
    "+ a ballot manifest\n",
    "+ a random seed\n",
    "+ a file of cast vote records\n",
    "+ reported results for each contest\n",
    "+ assertions about each contest\n",
    "+ human reading of voter intent from the paper ballots selected for audit\n",
    "\n",
    "The tool helps select ballots for audit, and reports when the audit has found sufficiently strong evidence to stop.\n",
    "\n",
    "The tool exports a log of all the audit inputs except the CVR file, but including the auditors' manually determined voter intent from the audited ballots."
   ]
  },
  {
   "cell_type": "code",
   "execution_count": 1,
   "metadata": {},
   "outputs": [],
   "source": [
    "from __future__ import division, print_function\n",
    "\n",
    "from ipywidgets import interact, interactive, fixed, interact_manual, Dropdown, Layout, Box\n",
    "import ipywidgets as widgets\n",
    "from IPython.display import display, HTML\n",
    "\n",
    "from collections import OrderedDict\n",
    "from itertools import product\n",
    "import math\n",
    "import json\n",
    "import warnings\n",
    "\n",
    "import numpy as np\n",
    "from ballot_comparison import ballot_comparison_pvalue\n",
    "from assertion_audit_utils import \\\n",
    "    Assertion, Assorter, CVR, \\\n",
    "    check_audit_parameters, write_audit_parameters, write_ballots_sampled\n",
    "\n",
    "from cryptorandom.cryptorandom import SHA256\n",
    "from cryptorandom.sample import sample_by_index\n",
    "\n",
    "from suite_tools import write_audit_results, \\\n",
    "        check_valid_vote_counts, \\\n",
    "        check_overvote_rates, find_winners_losers, print_reported_votes, \\\n",
    "        estimate_n, estimate_escalation_n, \\\n",
    "        parse_manifest, unique_manifest, find_ballot, \\\n",
    "        audit_contest"
   ]
  },
  {
   "cell_type": "markdown",
   "metadata": {},
   "source": [
    "# Audit parameters.\n",
    "\n",
    "* `seed`: the numeric seed for the pseudo-random number generator used to draw sample \n",
    "* `replacement`: whether to sample with replacement. If the sample is drawn with replacement, gamma must also be specified.\n",
    "* `gamma`: the gamma parameter used in the ballot-level comparison method from Lindeman and Stark (2012), based on Stark (2010). Require gamma $\\ge$ 1.\n",
    "gamma=1.03905 is a common value; it makes 2-vote overstatements \"cost\" 5 times more than 1-vote overstatements. Smaller values yield smaller sample sizes when there are no two-vote overstatement errors.\n",
    "* `N_ballots`: an upper bound on the number of ballots cast in the contest. This should be derived independently of the voting system.\n",
    "\n",
    "\n",
    "----\n",
    "\n",
    "* `cvr_file`: filename for CVRs (input)\n",
    "* `manifest_file`: filename for ballot manifest (input)\n",
    "* `assertion_file`: filename of assertions for IRV contests, in RAIRE format\n",
    "* `mvr_file`: filename for manually ascertained votes from sampled ballots (input)\n",
    "* `log_file`: filename for audit log (output)\n",
    "\n",
    "----\n",
    "\n",
    "* `error_rates`: dict of expected error rates. The keys are\n",
    "    + `o1_rate`: expected rate of 1-vote overstatements. Recommended value $\\ge$ 0.001 if there are hand-marked ballots. Larger values increase the initial sample size, but make it more likely that the audit will conclude in a single round if the audit finds errors\n",
    "    + `o2_rate`: expected rate of 2-vote overstatements. Recommended value 0.\n",
    "    + `u1_rate`: expected rate of 1-vote understatements. Recommended value 0.\n",
    "    + `u2_rate`: expected rate of 2-vote understatements. Recommended value 0.\n",
    "\n",
    "* `contests`: a dict of contest-specific data \n",
    "    + the keys are unique contest identifiers for contests under audit\n",
    "    + the values are dicts with keys:\n",
    "        - `risk_limit`: the risk limit for the audit of this contest\n",
    "        - `ballots_cast`: an upper bound on the number of cast ballots that contain the contest\n",
    "        - `choice_function`: `plurality`, `supermajority`, or `IRV`\n",
    "        - `n_winners`: number of winners for majority contests. (Multi-winner IRV not supported; multi-winner super-majority is nonsense)\n",
    "        - `share_to_win`: for super-majority contests, the fraction of valid votes required to win, e.g., 2/3.\n",
    "        - `candidates`: list of names or identifiers of candidates\n",
    "        - `reported_winners` : list of identifier(s) of candidate(s) reported to have won. Length should equal `n_winners`.\n",
    "        - `assertions`: a set of Assertions (see technical documentation) that collectively imply the reported outcome is correct"
   ]
  },
  {
   "cell_type": "code",
   "execution_count": 2,
   "metadata": {},
   "outputs": [],
   "source": [
    "seed = 12345678901234567890  # use, e.g., 20 rolls of a 10-sided die. Seed doesn't have to be numeric\n",
    "replacement = True  # Sampling without replacement isn't implemented\n",
    "gamma=1.03905\n",
    "N_ballots = 300000"
   ]
  },
  {
   "cell_type": "code",
   "execution_count": 3,
   "metadata": {},
   "outputs": [],
   "source": [
    "cvr_file = './Data/cvr.json'\n",
    "manifest_file = './Data/manifest.csv'\n",
    "mvr_file = './Data/mvr.csv'\n",
    "log_file = './Data/log.json'"
   ]
  },
  {
   "cell_type": "code",
   "execution_count": 4,
   "metadata": {},
   "outputs": [],
   "source": [
    "error_rates = {'o1_rate':0.002,      # expect 2 1-vote overstatements per 1000 ballots in the CVR stratum\n",
    "               'o2_rate':0,          # expect 0 2-vote overstatements\n",
    "               'u1_rate':0,          # expect 0 1-vote understatements\n",
    "               'u2_rate':0}          # expect 0 2-vote understatements"
   ]
  },
  {
   "cell_type": "code",
   "execution_count": 5,
   "metadata": {},
   "outputs": [],
   "source": [
    "# contests to audit\n",
    "\n",
    "contests = {'mayor':{'risk_limit':0.05,\n",
    "                     'choice_function':'IRV',\n",
    "                     'n_winners':1,\n",
    "                     'candidates':['Alice','Bob','Cindy'],\n",
    "                     'reported_winners' : ['Alice'],\n",
    "                     'assertion_file' : './Data/assertion.json'\n",
    "                    },\n",
    "            'city_council':{'risk_limit':0.05,\n",
    "                     'choice_function':'plurality',\n",
    "                     'n_winners':3,\n",
    "                     'candidates':['Doug','Emily','Frank','Gail','Harry'],\n",
    "                     'reported_winners' : ['Doug', 'Emily', 'Frank']\n",
    "                    },\n",
    "            'measure_1':{'risk_limit':0.05,\n",
    "                     'choice_function':'supermajority',\n",
    "                     'share_to_win':2/3,\n",
    "                     'n_winners':1,\n",
    "                     'candidates':['yes','no'],\n",
    "                     'reported_winners' : ['yes']\n",
    "                    }                  \n",
    "           }"
   ]
  },
  {
   "cell_type": "code",
   "execution_count": 6,
   "metadata": {},
   "outputs": [],
   "source": [
    "check_audit_parameters(gamma, error_rates, contests)\n",
    "write_audit_parameters(log_file, seed, replacement, gamma, N_ballots, error_rates, contests)"
   ]
  },
  {
   "cell_type": "markdown",
   "metadata": {},
   "source": [
    "## Find audit parameters and conduct audit\n",
    "\n",
    "* For each contest:\n",
    "    - find claimed outcome by applying SCF to CVRs\n",
    "    - complain if claimed outcome disagrees with reported outcome\n",
    "    - construct assertions that imply contest outcome is correct\n",
    "    - for each assertion:\n",
    "        + find generalized diluted margin\n",
    "        \n",
    "* Find initial (incremental) sample size from smallest diluted margin, for the sampling plan\n",
    "    - Complain if expected error rates imply any assertion is incorrect\n",
    "\n",
    "* For each assertion:\n",
    "    - Initialize discrepancy counts to zero (o1, o2, u1, u2)\n",
    "    - Initialize measured risk to 1\n",
    "* While measured risk for any assertion exceeds its risk limit:\n",
    "    - expand sample by estimated increment\n",
    "        + identify ballots in manifest\n",
    "        + update the log file with incremental sample\n",
    "    - import audit results when ballots have been audited\n",
    "    - for each assertion:\n",
    "        + for each sampled ballot:\n",
    "            - increment discrepancy count for the assertion\n",
    "        + find measured risk\n",
    "    - update log file with new measured risks\n",
    "    - if any measured risk exceeds its risk limit:\n",
    "        + estimate incremental sample required to complete the audit"
   ]
  },
  {
   "cell_type": "code",
   "execution_count": 7,
   "metadata": {},
   "outputs": [],
   "source": [
    "# read the assertions for the IRV contest\n",
    "for c in contests:\n",
    "    if contests[c]['choice_function'] == 'IRV':\n",
    "        with open(contests[c]['assertion_file'], 'r') as f:\n",
    "            contests[c]['assertions'] = {} # json.load(f)"
   ]
  },
  {
   "cell_type": "code",
   "execution_count": 8,
   "metadata": {},
   "outputs": [],
   "source": [
    "# construct the dict of dicts of assertions for each contest\n",
    "all_assertions = Assertion.make_all_assertions(contests)"
   ]
  },
  {
   "cell_type": "code",
   "execution_count": 9,
   "metadata": {
    "scrolled": true
   },
   "outputs": [
    {
     "data": {
      "text/plain": [
       "{'mayor': {},\n",
       " 'city_council': {'Doug v Gail': <assertion_audit_utils.Assertion at 0x11faf1b38>,\n",
       "  'Doug v Harry': <assertion_audit_utils.Assertion at 0x11fb763c8>,\n",
       "  'Emily v Gail': <assertion_audit_utils.Assertion at 0x11fb76358>,\n",
       "  'Emily v Harry': <assertion_audit_utils.Assertion at 0x11fb76278>,\n",
       "  'Frank v Gail': <assertion_audit_utils.Assertion at 0x11fb76320>,\n",
       "  'Frank v Harry': <assertion_audit_utils.Assertion at 0x11fb761d0>},\n",
       " 'measure_1': {'yes v all': <assertion_audit_utils.Assertion at 0x11faf1b00>}}"
      ]
     },
     "execution_count": 9,
     "metadata": {},
     "output_type": "execute_result"
    }
   ],
   "source": [
    "aa"
   ]
  },
  {
   "cell_type": "markdown",
   "metadata": {},
   "source": [
    "## Read the CVRs "
   ]
  },
  {
   "cell_type": "code",
   "execution_count": null,
   "metadata": {},
   "outputs": [],
   "source": [
    "# read the cast vote records\n",
    "with open(cvr_file, 'r') as f:\n",
    "    # do something\n",
    "    # cvrs = ???\n",
    "    pass"
   ]
  },
  {
   "cell_type": "code",
   "execution_count": null,
   "metadata": {},
   "outputs": [],
   "source": [
    "# find the mean of the assorters for the CVRs and check whether the assertions are met\n",
    "assorter_means = {}\n",
    "for c in contests.keys():\n",
    "    contest[c]['cvr_means'] = {}\n",
    "    for asrtn in audit_assertions[c]:\n",
    "        # find mean of the assertion for the CVRs\n",
    "        amean = audit_assertions[c][asrtn].assorter.assorter_mean(cvrs)\n",
    "        if amean < 1/2:\n",
    "            warn(\"assertion \" + asrtn + \" not satisfied by CVRs: mean value is \" + amean)\n",
    "        contest[c]['cvr_means'][asrtn] = amean"
   ]
  },
  {
   "cell_type": "markdown",
   "metadata": {},
   "source": [
    "## Set up for sampling"
   ]
  },
  {
   "cell_type": "code",
   "execution_count": null,
   "metadata": {},
   "outputs": [],
   "source": [
    "# read the ballot manifest\n",
    "manifest = read_manifest_from_csv(manifest_file)"
   ]
  },
  {
   "cell_type": "code",
   "execution_count": null,
   "metadata": {},
   "outputs": [],
   "source": [
    "# expand the ballot manifest into a dict. keys are batches, values are ballot numbers.\n",
    "manifest = parse_manifest(ballot_manifest)\n",
    "poll_manifest_parsed = parse_manifest(ballot_manifest_poll)"
   ]
  },
  {
   "cell_type": "code",
   "execution_count": null,
   "metadata": {},
   "outputs": [],
   "source": [
    "# find contest results\n",
    "for c in contests.keys():\n",
    "    contests[c]['winners'] = find_winners(contests[c])"
   ]
  },
  {
   "cell_type": "code",
   "execution_count": null,
   "metadata": {},
   "outputs": [],
   "source": [
    "# assign each ballot a unique ID\n",
    "unique_cvr_manifest = unique_manifest(cvr_manifest_parsed)"
   ]
  },
  {
   "cell_type": "code",
   "execution_count": null,
   "metadata": {},
   "outputs": [],
   "source": [
    "# look up sample ballots\n",
    "\n",
    "cvr_sample = []\n",
    "for s in sample1:\n",
    "    original_ballot_label, batch_label, which_ballot = find_ballot(s, \\\n",
    "                                                                   unique_cvr_manifest, \\\n",
    "                                                                   cvr_manifest_parsed)\n",
    "    cvr_sample.append([s, batch_label, which_ballot])\n",
    "\n",
    "cvr_sample.sort(key=lambda x: x[2]) # Sort second on order within batches\n",
    "cvr_sample.sort(key=lambda x: x[1]) # Sort first based on batch label\n",
    "cvr_sample.insert(0,[\"sampled ballot\", \"batch label\", \"which ballot in batch\"])\n",
    "\n",
    "display(HTML(\n",
    "    '<table><tr>{}</tr></table>'.format(\n",
    "        '</tr><tr>'.join(\n",
    "            '<td>{}</td>'.format('</td><td>'.join(str(_) for _ in row)) for row in cvr_sample)\n",
    "        )\n",
    " ))"
   ]
  },
  {
   "cell_type": "markdown",
   "metadata": {},
   "source": [
    "# Enter the sample data"
   ]
  },
  {
   "cell_type": "code",
   "execution_count": null,
   "metadata": {},
   "outputs": [],
   "source": [
    "# Find audit p-values across assertions"
   ]
  },
  {
   "cell_type": "code",
   "execution_count": null,
   "metadata": {},
   "outputs": [],
   "source": [
    "# Identify assertions not yet confirmed"
   ]
  },
  {
   "cell_type": "code",
   "execution_count": null,
   "metadata": {},
   "outputs": [],
   "source": [
    "# Log the status of the audit "
   ]
  },
  {
   "cell_type": "markdown",
   "metadata": {},
   "source": [
    "# Escalation: how many more ballots should be drawn?\n",
    "\n",
    "This tool estimates how many more ballots will need to be audited to confirm any remaining contests. The enlarged sample size is based on:\n",
    "\n",
    "* ballots already sampled\n",
    "* assumption that we will continue to see overstatements and understatements at the same rate that observed in the sample"
   ]
  },
  {
   "cell_type": "code",
   "execution_count": null,
   "metadata": {},
   "outputs": [],
   "source": [
    "sample_sizes_new = {}\n",
    "\n",
    "# TBD\n"
   ]
  },
  {
   "cell_type": "code",
   "execution_count": null,
   "metadata": {},
   "outputs": [],
   "source": []
  }
 ],
 "metadata": {
  "kernelspec": {
   "display_name": "Python 3",
   "language": "python",
   "name": "python3"
  },
  "language_info": {
   "codemirror_mode": {
    "name": "ipython",
    "version": 3
   },
   "file_extension": ".py",
   "mimetype": "text/x-python",
   "name": "python",
   "nbconvert_exporter": "python",
   "pygments_lexer": "ipython3",
   "version": "3.7.3"
  },
  "widgets": {
   "state": {
    "6cab9cab294247839758fa9e8d64d122": {
     "views": [
      {
       "cell_index": 42
      }
     ]
    },
    "b7b0321f834d45ebb1bdc036fba7a916": {
     "views": [
      {
       "cell_index": 38
      }
     ]
    }
   },
   "version": "1.2.0"
  }
 },
 "nbformat": 4,
 "nbformat_minor": 2
}
