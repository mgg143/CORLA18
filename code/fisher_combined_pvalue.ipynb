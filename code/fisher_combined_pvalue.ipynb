{
 "cells": [
  {
   "cell_type": "markdown",
   "metadata": {},
   "source": [
    "# Illustration of Fisher's combination method\n",
    "\n",
    "We'll set up a hypothetical election and a single sample of ballots to illustrate how to combine a ballot-polling audit with a ballot-comparison audit using Fisher's combining function.\n",
    "\n",
    "There are two strata. One contains every CVR county and the other contains every no-CVR county.\n",
    "There were 11,000 ballots cast in the election, 10,000 in the CVR stratum and 1,000 in the no-CVR stratum.\n",
    "\n",
    "In the CVR stratum, there were 4,550 votes reported for A, 4,950 votes for candidate B, and 500 invalid ballots.\n",
    "In the no-CVR stratum, there were 750 votes reported for A, 150 votes for B, and 100 invalid ballots.\n",
    "A won overall, with 5,300 votes to B's 5,1000, but not in the CVR stratum.\n",
    "The reported vote margin between A and B is 200 votes, a \"diluted margin\" of $200/11,000 = 1.8\\%$.\n",
    "\n",
    "\n",
    "Candidate | Stratum 1 | Stratum 2 | total \n",
    "---|---|---|---\n",
    "A | 4,550 | 750 | 5,300\n",
    "B | 4,950 | 150 | 5,100\n",
    "Ballots | 10,000 | 1,000 | 11,000\n",
    "Diluted margin | -4% | 60% | 1.8%\n",
    "\n",
    "We want to limit the risk of certifying an incorrect outcome to at most $\\alpha=10\\%$. \n",
    "\n",
    "In the CVR stratum, we sample 500 ballots and find no discrepancies.\n",
    "\n",
    "In the no-CVR stratum, we sample 250 ballots. We are unusually lucky and the vote proportions in the sample match those in the population. There are $187$ ballots for A and $37$ ballots for B. "
   ]
  },
  {
   "cell_type": "code",
   "execution_count": 1,
   "metadata": {},
   "outputs": [],
   "source": [
    "import numpy as np\n",
    "import scipy as sp\n",
    "import scipy.stats\n",
    "import scipy.optimize\n",
    "from ballot_comparison import ballot_comparison_pvalue\n",
    "from fishers_combination import fisher_combined_pvalue, maximize_fisher_combined_pvalue, \\\n",
    "    calculate_lambda_range, create_modulus\n",
    "\n",
    "    \n",
    "from sprt import ballot_polling_sprt\n",
    "\n",
    "import matplotlib.pyplot as plt\n",
    "%matplotlib inline"
   ]
  },
  {
   "cell_type": "code",
   "execution_count": 2,
   "metadata": {},
   "outputs": [],
   "source": [
    "N1 = 10000\n",
    "N2 = 1000\n",
    "N_w1 = 4550\n",
    "N_l1 = 4950\n",
    "N_w2 = 750\n",
    "N_l2= 150\n",
    "margin = (N_w1 + N_w2 - N_l1 - N_l2)\n",
    "\n",
    "n1 = 500\n",
    "n2 = 250"
   ]
  },
  {
   "cell_type": "markdown",
   "metadata": {},
   "source": [
    "Below, we define functions for computing $P$-values based on the observed samples. \n",
    "The observed statistics and known parameters (e.g. the total number of ballots cast in each stratum) should be plugged in already. These $P$-values are functions of the error allocation $\\lambda$ which determines how much overstatement error is allowed in each stratum."
   ]
  },
  {
   "cell_type": "code",
   "execution_count": 3,
   "metadata": {},
   "outputs": [],
   "source": [
    "cvr_pvalue = lambda alloc: \\\n",
    "    ballot_comparison_pvalue(n=n1, gamma=1.03905, o1=0, u1=0, o2=0, u2=0, \\\n",
    "                             reported_margin=margin, N=N1, null_lambda=alloc)\n",
    "\n",
    "nocvr_pvalue = lambda alloc: \\\n",
    "    ballot_polling_sprt(sample= np.array([0]*int(n2*N_l2/N2)+\\\n",
    "                                             [1]*int(n2*N_w2/N2)+\\\n",
    "                                             [np.nan]*int(n2*(N2-N_l2-N_w2)/N2 + 1)), \\\n",
    "                            popsize=N2, \\\n",
    "                            alpha=0.05,  # set this param but we don't need to use it\n",
    "                            Vw=N_w2, \\\n",
    "                            Vl=N_l2, \\\n",
    "                            null_margin=(N_w2-N_l2) - alloc*margin)['pvalue']"
   ]
  },
  {
   "cell_type": "code",
   "execution_count": 4,
   "metadata": {},
   "outputs": [
    {
     "name": "stdout",
     "output_type": "stream",
     "text": [
      "lambda = 0.3\n",
      "CVR P-value: 0.23557770396261943 \n",
      "no-CVR P-value: 0.006068185147942991\n",
      "Fisher's combined P-value: 0.010793531242678012\n"
     ]
    }
   ],
   "source": [
    "# This is one possible allocation lambda=0.3\n",
    "\n",
    "print(\"lambda = 0.3\")\n",
    "pvalues = [cvr_pvalue(0.3), nocvr_pvalue(0.7)]\n",
    "print(\"CVR P-value:\", pvalues[0], \"\\nno-CVR P-value:\", pvalues[1])\n",
    "fisher_pvalue = fisher_combined_pvalue(pvalues)\n",
    "print(\"Fisher's combined P-value:\", fisher_pvalue)"
   ]
  },
  {
   "cell_type": "markdown",
   "metadata": {},
   "source": [
    "# Maximizing the $P$-value over $\\lambda$\n",
    "\n",
    "We can stop the audit if the $P$-value is less than the risk limit, $10\\%$, for all values of $\\lambda$ that allocating the overstatement error between the CVR and no-CVR strata. First, let's just plot the $P$-values in each stratum for varying values of $\\lambda$ to see how they behave."
   ]
  },
  {
   "cell_type": "code",
   "execution_count": 5,
   "metadata": {
    "scrolled": true
   },
   "outputs": [
    {
     "name": "stdout",
     "output_type": "stream",
     "text": [
      "Lambda limits: -7.0 3.0\n"
     ]
    },
    {
     "data": {
      "image/png": "[encoded data removed]",
      "text/plain": [
       "<Figure size 432x288 with 1 Axes>"
      ]
     },
     "metadata": {
      "needs_background": "light"
     },
     "output_type": "display_data"
    }
   ],
   "source": [
    "# find range of possible lambda\n",
    "(lambda_lower, lambda_upper) = calculate_lambda_range(N_w1, N_l1, N1, N_w2, N_l2, N2)\n",
    "\n",
    "print(\"Lambda limits:\", lambda_lower, lambda_upper)\n",
    "\n",
    "fisher_pvalues = []\n",
    "cvr_pvalues = []\n",
    "nocvr_pvalues = []\n",
    "for lam in np.arange(lambda_lower, lambda_upper+1, 0.5):\n",
    "    cvr_pvalues.append(np.min([1, cvr_pvalue(lam)]))\n",
    "    nocvr_pvalues.append(nocvr_pvalue(1-lam))\n",
    "    fisher_pvalues.append(fisher_combined_pvalue([cvr_pvalues[-1], nocvr_pvalues[-1]]))\n",
    "    \n",
    "plt.scatter(np.arange(lambda_lower, lambda_upper+1, 0.5), cvr_pvalues, color='r', label=\"CVR\")\n",
    "plt.scatter(np.arange(lambda_lower, lambda_upper+1, 0.5), nocvr_pvalues, color='b', label=\"no-CVR\")\n",
    "plt.legend()\n",
    "plt.xlabel(\"lambda\")\n",
    "plt.ylabel(\"P-value\")\n",
    "plt.ylim(0, 1)\n",
    "plt.show()\n",
    "\n"
   ]
  },
  {
   "cell_type": "markdown",
   "metadata": {},
   "source": [
    "When one $P$-value is large, the other is small. Below we plot the Fisher's combined $P$-value. It is small whenever *at least* one of the CVR and no-CVR $P$-values is small.\n",
    "\n",
    "The Fisher's combined $P$-value peaks between $\\lambda = 0$ and $2$. But this plot just shows us the maximum along a grid. Below, we use the function `maximize_fisher_combined_pvalue` to find the maximum on a further refined grid. It's just over $7\\%$, higher than what the points on the grid show. We'd need to increase the sample sizes in each stratum to attain a 5\\% risk limit."
   ]
  },
  {
   "cell_type": "code",
   "execution_count": 6,
   "metadata": {},
   "outputs": [
    {
     "data": {
      "image/png": "[encoded data removed]",
      "text/plain": [
       "<Figure size 432x288 with 1 Axes>"
      ]
     },
     "metadata": {
      "needs_background": "light"
     },
     "output_type": "display_data"
    }
   ],
   "source": [
    "plt.scatter(np.arange(lambda_lower, lambda_upper+1, 0.5), fisher_pvalues, color='black')\n",
    "plt.title(\"Fisher's combined P-value\")\n",
    "plt.xlabel(\"lambda\")\n",
    "plt.ylabel(\"P-value\")\n",
    "plt.show()"
   ]
  },
  {
   "cell_type": "code",
   "execution_count": 7,
   "metadata": {},
   "outputs": [],
   "source": [
    "mod = create_modulus(n1=n1, n2=n2, n_w2=int(n2*N_w2/N2), n_l2=int(n2*N_l2/N2), \n",
    "                     N1=N1, V_wl=margin, gamma=1.03905)"
   ]
  },
  {
   "cell_type": "code",
   "execution_count": 8,
   "metadata": {},
   "outputs": [
    {
     "data": {
      "text/plain": [
       "{'max_pvalue': 0.07049896663377597,\n",
       " 'min_chisq': 8.648940992563045,\n",
       " 'allocation lambda': 0.7999999999999723,\n",
       " 'tol': None,\n",
       " 'stepsize': 0.05,\n",
       " 'refined': False}"
      ]
     },
     "execution_count": 8,
     "metadata": {},
     "output_type": "execute_result"
    }
   ],
   "source": [
    "maximize_fisher_combined_pvalue(N_w1, N_l1, N1, N_w2, N_l2, N2,\n",
    "                                pvalue_funs = (cvr_pvalue, nocvr_pvalue), \n",
    "                                stepsize=0.05, modulus=mod, alpha=0.05)"
   ]
  }
 ],
 "metadata": {
  "kernelspec": {
   "display_name": "Python 3",
   "language": "python",
   "name": "python3"
  },
  "language_info": {
   "codemirror_mode": {
    "name": "ipython",
    "version": 3
   },
   "file_extension": ".py",
   "mimetype": "text/x-python",
   "name": "python",
   "nbconvert_exporter": "python",
   "pygments_lexer": "ipython3",
   "version": "3.7.1"
  }
 },
 "nbformat": 4,
 "nbformat_minor": 2
}
