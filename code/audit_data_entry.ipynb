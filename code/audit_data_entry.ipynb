{
 "cells": [
  {
   "cell_type": "markdown",
   "metadata": {},
   "source": [
    "# Audit data entry\n",
    "\n"
   ]
  },
  {
   "cell_type": "code",
   "execution_count": 1,
   "metadata": {},
   "outputs": [],
   "source": [
    "from __future__ import print_function\n",
    "\n",
    "from ipywidgets import interact, interactive, fixed, interact_manual, Dropdown, Layout, Box\n",
    "import ipywidgets as widgets\n",
    "from IPython.display import display, HTML\n",
    "\n",
    "from collections import OrderedDict\n",
    "from itertools import product\n",
    "import math\n",
    "import json\n",
    "\n",
    "import numpy as np\n",
    "from ballot_comparison import ballot_comparison_pvalue\n",
    "from fishers_combination import  maximize_fisher_combined_pvalue, create_modulus\n",
    "from sprt import ballot_polling_sprt\n",
    "\n",
    "from cryptorandom.cryptorandom import SHA256\n",
    "from cryptorandom.sample import sample_by_index\n",
    "\n",
    "from suite_tools import write_audit_parameters, write_audit_results, \\\n",
    "        check_valid_audit_parameters, check_valid_vote_counts, \\\n",
    "        check_overvote_rates, find_winners_losers, print_reported_votes, \\\n",
    "        estimate_n, estimate_escalation_n, \\\n",
    "        parse_manifest, unique_manifest, find_ballot, \\\n",
    "        audit_contest\n",
    "        "
   ]
  },
  {
   "cell_type": "markdown",
   "metadata": {},
   "source": [
    "# Input the global audit parameters.\n",
    "\n",
    "For an audit, you should input the following global parameters in the cell below:\n",
    "\n",
    "* contest-specific parameters:\n",
    "    * `risk_limit`: the risk limit for the audit\n",
    "    * `stratum_sizes`: total ballots in the two strata, [CVR total, no-CVR total]\n",
    "    * `num_winners`: number of winners in the contest\n",
    "* software parameters:\n",
    "    * `seed`: the numeric seed for the pseudo-random number generator used to draw samples of ballots. Use, e.g., 20 rolls of a 10-sided die \n",
    "    * `gamma`: the gamma parameter used in the ballot-polling method from Lindeman and Stark (2012). Default value of 1.03905 is generally accepted\n",
    "    * `lambda_step`: the initial step size in the grid search over the way error is allocated across the CVR and no-CVR strata in SUITE. Default 0.05 is acceptable\n",
    "* initial sample size estimate parameters:\n",
    "    * `o1_rate`: expected rate of 1-vote overstatements in the CVR stratum\n",
    "    * `o2_rate`: expected rate of 2-vote overstatements in the CVR stratum\n",
    "    * `u1_rate`: expected rate of 1-vote understatements in the CVR stratum\n",
    "    * `u2_rate`: expected rate of 2-vote understatements in the CVR stratum\n",
    "    * `n_ratio`: what fraction of the sample is taken from the CVR stratum. Default is to allocate sample in proportion to ballots cast in each stratum.\n",
    "    \n"
   ]
  },
  {
   "cell_type": "code",
   "execution_count": 2,
   "metadata": {},
   "outputs": [],
   "source": [
    "# global audit parameters\n",
    "\n",
    "# contest-specific parameters\n",
    "risk_limit = 0.05    # risk limit\n",
    "stratum_sizes = [100000, 5000]  # total ballots in the two strata, CVR, no-CVR\n",
    "num_winners = 2       # maximum number of winners, per social choice function\n",
    "\n",
    "\n",
    "# software parameters\n",
    "seed = 12345678901234567890  # use, e.g., 20 rolls of a 10-sided die\n",
    "gamma=1.03905         # gamma from Lindeman and Stark (2012)\n",
    "lambda_step = 0.05    # stepsize for the discrete bounds on Fisher's combining function\n",
    "\n",
    "# initial sample size parameters\n",
    "o1_rate = 0.002       # expect 2 1-vote overstatements per 1000 ballots in the CVR stratum\n",
    "o2_rate = 0           # expect 0 2-vote overstatements\n",
    "u1_rate = 0           # expect 0 1-vote understatements\n",
    "u2_rate = 0           # expect 0 2-vote understatements\n",
    "n_ratio = stratum_sizes[0]/np.sum(stratum_sizes) \n",
    "                     # allocate sample in proportion to ballots cast in each stratum"
   ]
  },
  {
   "cell_type": "code",
   "execution_count": 3,
   "metadata": {},
   "outputs": [],
   "source": [
    "check_valid_audit_parameters(risk_limit, lambda_step, o1_rate, o2_rate, \\\n",
    "                                 u1_rate, u2_rate, stratum_sizes, n_ratio, num_winners)"
   ]
  },
  {
   "cell_type": "code",
   "execution_count": 4,
   "metadata": {},
   "outputs": [],
   "source": [
    "write_audit_parameters(\"audit_parameters.json\",\\\n",
    "                       risk_limit, stratum_sizes, num_winners, seed, gamma, \\\n",
    "                       lambda_step, o1_rate, o2_rate, \\\n",
    "                       u1_rate, u2_rate, n_ratio)"
   ]
  },
  {
   "cell_type": "markdown",
   "metadata": {},
   "source": [
    "# Enter the reported votes\n",
    "\n",
    "Candidates are stored in a data structure called a dictionary. Enter the candidate name and the votes in each stratum, [votes in CVR stratum, votes in no-CVR stratum], in the cell below. The following cell will calculate the vote totals, margins, winners, and losers."
   ]
  },
  {
   "cell_type": "code",
   "execution_count": 5,
   "metadata": {},
   "outputs": [],
   "source": [
    "# input number of winners\n",
    "# input names as well as reported votes in each stratum\n",
    "\n",
    "# candidates are a dict with name, [votes in CVR stratum, votes in no-CVR stratum]\n",
    "candidates = { \"candidate 3\": [30000, 500],\n",
    "               \"candidate 2\": [50000, 1000],\n",
    "               \"candidate 1\": [10000, 500],\n",
    "               \"candidate 4\": [500, 10]}\n",
    "\n",
    "# Run validity check on the input vote totals\n",
    "check_valid_vote_counts(candidates, stratum_sizes)"
   ]
  },
  {
   "cell_type": "code",
   "execution_count": 16,
   "metadata": {},
   "outputs": [
    {
     "ename": "TypeError",
     "evalue": "must be str, not Dropdown",
     "output_type": "error",
     "traceback": [
      "\u001b[0;31m---------------------------------------------------------------------------\u001b[0m",
      "\u001b[0;31mTypeError\u001b[0m                                 Traceback (most recent call last)",
      "\u001b[0;32m<ipython-input-16-f68ad5a0f4e2>\u001b[0m in \u001b[0;36m<module>\u001b[0;34m()\u001b[0m\n\u001b[1;32m      8\u001b[0m     w.append(\n\u001b[1;32m      9\u001b[0m         widgets.Dropdown(options=candidate_list, description='hand-to-eye:', disabled=False))\n\u001b[0;32m---> 10\u001b[0;31m     \u001b[0mdisplay\u001b[0m\u001b[0;34m(\u001b[0m\u001b[0;34m'ballot'\u001b[0m \u001b[0;34m+\u001b[0m \u001b[0mstr\u001b[0m\u001b[0;34m(\u001b[0m\u001b[0mi\u001b[0m\u001b[0;34m)\u001b[0m \u001b[0;34m+\u001b[0m \u001b[0mw\u001b[0m\u001b[0;34m[\u001b[0m\u001b[0mi\u001b[0m\u001b[0;34m]\u001b[0m\u001b[0;34m)\u001b[0m\u001b[0;34m\u001b[0m\u001b[0m\n\u001b[0m",
      "\u001b[0;31mTypeError\u001b[0m: must be str, not Dropdown"
     ]
    }
   ],
   "source": [
    "sampled_ballots = 10\n",
    "\n",
    "candidate_list = list(sorted(candidates))\n",
    "candidate_list.append('non-vote')\n",
    "w = []\n",
    "\n",
    "for i in range(sampled_ballots):\n",
    "    w.append(\n",
    "        widgets.Dropdown(options=candidate_list, description='hand-to-eye:', disabled=False))\n",
    "    display('ballot' + str(i) + w[i])"
   ]
  },
  {
   "cell_type": "code",
   "execution_count": 20,
   "metadata": {
    "collapsed": true
   },
   "outputs": [],
   "source": [
    "# step 1: expand the ballot manifest into a dict. keys are batches, values are ballot numbers.\n",
    "cvr_manifest_parsed = parse_manifest(ballot_manifest_cvr)\n",
    "poll_manifest_parsed = parse_manifest(ballot_manifest_poll)"
   ]
  },
  {
   "cell_type": "code",
   "execution_count": 21,
   "metadata": {},
   "outputs": [],
   "source": [
    "# count ballots listed in the manifests\n",
    "listed_cvr = np.sum([len(v) for v in cvr_manifest_parsed.values()])\n",
    "listed_poll = np.sum([len(v) for v in poll_manifest_parsed.values()])\n",
    "\n",
    "# test that manifest matches reported ballot totals\n",
    "\n",
    "assert listed_cvr == stratum_sizes[0]\n",
    "assert listed_poll == stratum_sizes[1]"
   ]
  },
  {
   "cell_type": "code",
   "execution_count": 22,
   "metadata": {},
   "outputs": [],
   "source": [
    "# step 2: give ballots unique IDs\n",
    "\n",
    "unique_cvr_manifest = unique_manifest(cvr_manifest_parsed)\n",
    "unique_poll_manifest = unique_manifest(poll_manifest_parsed)"
   ]
  },
  {
   "cell_type": "markdown",
   "metadata": {},
   "source": [
    "**KELLIE TO DOS:** \n",
    "* for the CVR stratum, include ballot multiplicity\n",
    "* make ballot manifest syntax consistent with the spec"
   ]
  },
  {
   "cell_type": "code",
   "execution_count": 23,
   "metadata": {},
   "outputs": [
    {
     "name": "stdout",
     "output_type": "stream",
     "text": [
      "CVR Stratum\n"
     ]
    },
    {
     "data": {
      "text/html": [
       "<table><tr><td>sampled ballot</td><td>batch label</td><td>which ballot in batch</td></tr><tr><td>2081</td><td>1</td><td>2081</td></tr><tr><td>3974</td><td>1</td><td>3974</td></tr><tr><td>8262</td><td>1</td><td>8262</td></tr><tr><td>9973</td><td>1</td><td>9973</td></tr><tr><td>10908</td><td>2</td><td>908</td></tr><tr><td>12244</td><td>2</td><td>2244</td></tr><tr><td>16602</td><td>2</td><td>6602</td></tr><tr><td>17757</td><td>2</td><td>7757</td></tr><tr><td>20823</td><td>2</td><td>10823</td></tr><tr><td>20934</td><td>2</td><td>10934</td></tr><tr><td>25122</td><td>2</td><td>15122</td></tr><tr><td>28136</td><td>2</td><td>18136</td></tr><tr><td>32532</td><td>2</td><td>22532</td></tr><tr><td>33501</td><td>2</td><td>23501</td></tr><tr><td>34320</td><td>2</td><td>24320</td></tr><tr><td>35549</td><td>2</td><td>25549</td></tr><tr><td>38891</td><td>2</td><td>28891</td></tr><tr><td>41161</td><td>2</td><td>31161</td></tr><tr><td>41676</td><td>2</td><td>31676</td></tr><tr><td>44578</td><td>2</td><td>34578</td></tr><tr><td>45067</td><td>2</td><td>35067</td></tr><tr><td>45326</td><td>2</td><td>35326</td></tr><tr><td>45424</td><td>2</td><td>35424</td></tr><tr><td>47365</td><td>2</td><td>37365</td></tr><tr><td>50570</td><td>2</td><td>40570</td></tr><tr><td>51855</td><td>2</td><td>41855</td></tr><tr><td>52917</td><td>2</td><td>42917</td></tr><tr><td>56264</td><td>2</td><td>46264</td></tr><tr><td>57922</td><td>2</td><td>47922</td></tr><tr><td>61419</td><td>2</td><td>51419</td></tr><tr><td>61814</td><td>2</td><td>51814</td></tr><tr><td>62444</td><td>2</td><td>52444</td></tr><tr><td>63375</td><td>2</td><td>53375</td></tr><tr><td>64352</td><td>2</td><td>54352</td></tr><tr><td>67903</td><td>2</td><td>57903</td></tr><tr><td>70220</td><td>2</td><td>60220</td></tr><tr><td>70683</td><td>2</td><td>60683</td></tr><tr><td>73573</td><td>2</td><td>63573</td></tr><tr><td>74227</td><td>2</td><td>64227</td></tr><tr><td>76116</td><td>2</td><td>66116</td></tr><tr><td>76640</td><td>2</td><td>66640</td></tr><tr><td>76674</td><td>2</td><td>66674</td></tr><tr><td>77941</td><td>2</td><td>67941</td></tr><tr><td>79743</td><td>2</td><td>69743</td></tr><tr><td>81503</td><td>2</td><td>71503</td></tr><tr><td>82205</td><td>2</td><td>72205</td></tr><tr><td>83868</td><td>2</td><td>73868</td></tr><tr><td>84152</td><td>2</td><td>74152</td></tr><tr><td>84257</td><td>2</td><td>74257</td></tr><tr><td>85102</td><td>2</td><td>75102</td></tr><tr><td>87511</td><td>2</td><td>77511</td></tr><tr><td>88527</td><td>2</td><td>78527</td></tr><tr><td>88735</td><td>2</td><td>78735</td></tr><tr><td>91127</td><td>2</td><td>81127</td></tr><tr><td>94304</td><td>2</td><td>84304</td></tr><tr><td>95332</td><td>2</td><td>85332</td></tr><tr><td>96612</td><td>2</td><td>86612</td></tr><tr><td>97791</td><td>2</td><td>87791</td></tr></table>"
      ],
      "text/plain": [
       "<IPython.core.display.HTML object>"
      ]
     },
     "metadata": {},
     "output_type": "display_data"
    }
   ],
   "source": [
    "# step 3: look up sample values\n",
    "\n",
    "print(\"CVR Stratum\")\n",
    "\n",
    "cvr_sample = []\n",
    "for s in sample1:\n",
    "    original_ballot_label, batch_label, which_ballot = find_ballot(s, \\\n",
    "                                                                   unique_cvr_manifest, \\\n",
    "                                                                   cvr_manifest_parsed)\n",
    "    cvr_sample.append([s, batch_label, which_ballot])\n",
    "\n",
    "cvr_sample.sort(key=lambda x: x[2]) # Sort second on order within batches\n",
    "cvr_sample.sort(key=lambda x: x[1]) # Sort first based on batch label\n",
    "cvr_sample.insert(0,[\"sampled ballot\", \"batch label\", \"which ballot in batch\"])\n",
    "\n",
    "display(HTML(\n",
    "    '<table><tr>{}</tr></table>'.format(\n",
    "        '</tr><tr>'.join(\n",
    "            '<td>{}</td>'.format('</td><td>'.join(str(_) for _ in row)) for row in cvr_sample)\n",
    "        )\n",
    " ))"
   ]
  },
  {
   "cell_type": "code",
   "execution_count": 24,
   "metadata": {},
   "outputs": [
    {
     "name": "stdout",
     "output_type": "stream",
     "text": [
      "Polling Stratum\n"
     ]
    },
    {
     "data": {
      "text/html": [
       "<table><tr><td>sampled ballot</td><td>batch label</td><td>which ballot in batch</td></tr><tr><td>1133</td><td>2</td><td>133</td></tr><tr><td>4784</td><td>2</td><td>3784</td></tr></table>"
      ],
      "text/plain": [
       "<IPython.core.display.HTML object>"
      ]
     },
     "metadata": {},
     "output_type": "display_data"
    }
   ],
   "source": [
    "print(\"Polling Stratum\")\n",
    "\n",
    "nocvr_sample = []\n",
    "for s in sample2:\n",
    "    original_ballot_label, batch_label, which_ballot = find_ballot(s, \\\n",
    "                                                                   unique_poll_manifest, \\\n",
    "                                                                   poll_manifest_parsed)\n",
    "    nocvr_sample.append([s, batch_label, which_ballot])\n",
    "\n",
    "nocvr_sample.sort(key=lambda x: x[2]) # Sort second on order within batches\n",
    "nocvr_sample.sort(key=lambda x: x[1]) # Sort first based on batch label\n",
    "nocvr_sample.insert(0,[\"sampled ballot\", \"batch label\", \"which ballot in batch\"])\n",
    "\n",
    "display(HTML(\n",
    "    '<table><tr>{}</tr></table>'.format(\n",
    "        '</tr><tr>'.join(\n",
    "            '<td>{}</td>'.format('</td><td>'.join(str(_) for _ in row)) for row in nocvr_sample)\n",
    "        )\n",
    " ))"
   ]
  },
  {
   "cell_type": "markdown",
   "metadata": {},
   "source": [
    "# Enter the sample data"
   ]
  },
  {
   "cell_type": "markdown",
   "metadata": {},
   "source": [
    "Sample statistics for the CVR stratum (stratum 1)"
   ]
  },
  {
   "cell_type": "code",
   "execution_count": 25,
   "metadata": {
    "collapsed": true
   },
   "outputs": [],
   "source": [
    "# CVR stratum sample size\n",
    "n1 = 60"
   ]
  },
  {
   "cell_type": "code",
   "execution_count": 26,
   "metadata": {},
   "outputs": [
    {
     "data": {
      "text/plain": [
       "(5, 0, 0, 0)"
      ]
     },
     "metadata": {},
     "output_type": "display_data"
    }
   ],
   "source": [
    "# Number of observed...\n",
    "\n",
    "def cvr_audit_inputs(o1, o2, u1, u2):\n",
    "    return (o1, o2, u1, u2)\n",
    "\n",
    "cvr_stats = interactive(cvr_audit_inputs,\n",
    "                             o1 = widgets.IntSlider(min=0,max=n1,value=0),\n",
    "                             u1 = widgets.IntSlider(min=0,max=n1,value=0),\n",
    "                             o2 = widgets.IntSlider(min=0,max=n1,value=0),\n",
    "                             u2 = widgets.IntSlider(min=0,max=n1,value=0))\n",
    "display(cvr_stats)"
   ]
  },
  {
   "cell_type": "code",
   "execution_count": 27,
   "metadata": {},
   "outputs": [],
   "source": [
    "(o1, o2, u1, u2) = [cvr_stats.children[i].value for i in range(4)]"
   ]
  },
  {
   "cell_type": "markdown",
   "metadata": {},
   "source": [
    "Sample statistics for the no-CVR stratum (stratum 2)"
   ]
  },
  {
   "cell_type": "code",
   "execution_count": 28,
   "metadata": {
    "collapsed": true
   },
   "outputs": [],
   "source": [
    "# Number of votes for each candidate\n",
    "# recall that in the provided example, n2=3 so the totals here must add up to <= 3.\n",
    "n2 = 3"
   ]
  },
  {
   "cell_type": "code",
   "execution_count": 29,
   "metadata": {},
   "outputs": [],
   "source": [
    "nocvr_widgets=[]\n",
    "\n",
    "# create the widgets\n",
    "for name in candidates.keys():\n",
    "    nocvr_widgets.append(widgets.IntSlider(value=0,min=0,max=n2,description=name))\n",
    "\n",
    "# It'd be great to constrain their sum to be <= n2\n",
    "\n",
    "#for widget in nocvr_widgets:\n",
    "#    widget.observe(lambda change:myfct(change,nocvr_widgets),names='value',type='change')\n",
    "\n",
    "# group the widgets into a FlexBox\n",
    "nocvr_audit_inputs = widgets.VBox(children=nocvr_widgets)\n",
    "\n",
    "# display the widgets\n",
    "display(nocvr_audit_inputs)"
   ]
  },
  {
   "cell_type": "code",
   "execution_count": 30,
   "metadata": {},
   "outputs": [
    {
     "name": "stdout",
     "output_type": "stream",
     "text": [
      "{'candidate 4': 0, 'candidate 3': 1, 'candidate 1': 0, 'candidate 2': 2}\n"
     ]
    }
   ],
   "source": [
    "# no-CVR sample is stored in a dict with name, votes in the sample\n",
    "\n",
    "observed_poll = {}\n",
    "for widget in nocvr_widgets:\n",
    "    observed_poll[widget.description] = widget.value\n",
    "\n",
    "assert np.sum(list(observed_poll.values())) <= n2, \"Too many ballots input\"\n",
    "print(observed_poll)"
   ]
  },
  {
   "cell_type": "markdown",
   "metadata": {},
   "source": [
    "# What's the risk for this sample?\n",
    "\n",
    "The audit looks at every (winner, loser) pair in each contest. Auditing continues until there is strong evidence that every winner in a contest got more votes than every loser in the contest. It does this by considering (winner, loser) pairs. The SUITE risk for every pair will appear beneath the cell below after it is run. The audit continues until all the numbers are not larger than the risk limit. E.g., if the risk limit is 10%, the audit stops when the numbers in the table are all less than 0.1."
   ]
  },
  {
   "cell_type": "code",
   "execution_count": 31,
   "metadata": {},
   "outputs": [
    {
     "data": {
      "text/plain": [
       "{('candidate 2', 'candidate 1'): 0.0008703740183476638,\n",
       " ('candidate 2', 'candidate 4'): 3.310313991689018e-05,\n",
       " ('candidate 3', 'candidate 1'): 0.23272911575919975,\n",
       " ('candidate 3', 'candidate 4'): 0.01806178712685269}"
      ]
     },
     "execution_count": 31,
     "metadata": {},
     "output_type": "execute_result"
    }
   ],
   "source": [
    "# Find audit p-values across (winner, loser) pairs\n",
    "\n",
    "audit_pvalues = audit_contest(candidates, winners, losers, stratum_sizes, \\\n",
    "                  n1, n2, o1, o2, u1, u2, observed_poll, \\\n",
    "                  risk_limit=risk_limit, gamma=gamma, stepsize=lambda_step)\n",
    "audit_pvalues"
   ]
  },
  {
   "cell_type": "code",
   "execution_count": 32,
   "metadata": {},
   "outputs": [
    {
     "name": "stdout",
     "output_type": "stream",
     "text": [
      "Pairs not yet confirmed:\n",
      " [('candidate 3', 'candidate 1')]\n"
     ]
    }
   ],
   "source": [
    "# Track contests not yet confirmed\n",
    "\n",
    "contests_not_yet_confirmed = [i[0] for i in audit_pvalues.items() \\\n",
    "                              if i[1]>risk_limit]\n",
    "print(\"Pairs not yet confirmed:\\n\", contests_not_yet_confirmed)"
   ]
  },
  {
   "cell_type": "code",
   "execution_count": 33,
   "metadata": {},
   "outputs": [],
   "source": [
    "# Save everything to file\n",
    "\n",
    "\n",
    "write_audit_results(\"audit_results.json\", \\\n",
    "                        n1, n2, sample1, sample2, \\\n",
    "                        o1, o2, u1, u2, observed_poll, \\\n",
    "                        audit_pvalues)"
   ]
  },
  {
   "cell_type": "markdown",
   "metadata": {},
   "source": [
    "# Escalation guidance: how many more ballots should be drawn?\n",
    "\n",
    "This tool estimates how many more ballots should be examined to confirm any remaining contests. The enlarged sample size is based on the following:\n",
    "* ballots that have already been sampled\n",
    "* assumption that we will continue to see overstatements and understatements at the same rate that they've been observed in the sample so far\n",
    "* assumption that vote proportions in the ballot-polling stratum will reflect the reported proportions\n",
    "\n",
    "Given these additional numbers, return to the sampling tool and draw additional ballots, find them with the ballot manifest tool, update the observed sample values, and rerun the SUITE risk calculations."
   ]
  },
  {
   "cell_type": "code",
   "execution_count": 34,
   "metadata": {},
   "outputs": [],
   "source": [
    "sample_sizes_new = {}\n",
    "\n",
    "# Add a reminder note about the candidate dict structure.\n",
    "\n",
    "for k in contests_not_yet_confirmed:\n",
    "    sample_sizes_new[k] = estimate_escalation_n(\\\n",
    "                                 N_w1 = candidates[k[0]][0],\\\n",
    "                                 N_w2 = candidates[k[0]][1],\\\n",
    "                                 N_l1 = candidates[k[1]][0],\\\n",
    "                                 N_l2 = candidates[k[1]][1],\\\n",
    "                                 N1 = stratum_sizes[0],\\\n",
    "                                 N2 = stratum_sizes[1],\\\n",
    "                                 n1 = n1,\\\n",
    "                                 n2 = n2,\\\n",
    "                                 o1_obs = o1,\\\n",
    "                                 o2_obs = o2,\\\n",
    "                                 u1_obs = u1,\\\n",
    "                                 u2_obs = u2,\\\n",
    "                                 n2l_obs = observed_poll[k[1]],\\\n",
    "                                 n2w_obs = observed_poll[k[0]],\\\n",
    "                                 n_ratio = n_ratio,\\\n",
    "                                 risk_limit = risk_limit,\\\n",
    "                                 gamma = gamma,\\\n",
    "                                 stepsize = lambda_step)"
   ]
  },
  {
   "cell_type": "code",
   "execution_count": 35,
   "metadata": {},
   "outputs": [
    {
     "name": "stdout",
     "output_type": "stream",
     "text": [
      "{('candidate 3', 'candidate 1'): (113, 5)} \n",
      "\n",
      "Expected minimum sample size: 118\n",
      "\n",
      "Ballots to draw in the CVR stratum: 53\n",
      "Ballots to draw in the no-CVR stratum: 2\n"
     ]
    }
   ],
   "source": [
    "sample_size_new = np.amax([v[0]+v[1] for v in sample_sizes_new.values()])\n",
    "n1_new = np.amax([v[0] for v in sample_sizes_new.values()])\n",
    "n2_new = np.amax([v[1] for v in sample_sizes_new.values()])\n",
    "\n",
    "print(sample_sizes_new, '\\n\\nExpected minimum sample size:', sample_size_new)\n",
    "print(\"\\nBallots to draw in the CVR stratum:\", n1_new - n1)\n",
    "print(\"Ballots to draw in the no-CVR stratum:\", n2_new - n2)"
   ]
  },
  {
   "cell_type": "code",
   "execution_count": null,
   "metadata": {},
   "outputs": [],
   "source": []
  }
 ],
 "metadata": {
  "kernelspec": {
   "display_name": "Python 3",
   "language": "python",
   "name": "python3"
  },
  "language_info": {
   "codemirror_mode": {
    "name": "ipython",
    "version": 3
   },
   "file_extension": ".py",
   "mimetype": "text/x-python",
   "name": "python",
   "nbconvert_exporter": "python",
   "pygments_lexer": "ipython3",
   "version": "3.7.3"
  },
  "widgets": {
   "state": {
    "6cab9cab294247839758fa9e8d64d122": {
     "views": [
      {
       "cell_index": 42
      }
     ]
    },
    "b7b0321f834d45ebb1bdc036fba7a916": {
     "views": [
      {
       "cell_index": 38
      }
     ]
    }
   },
   "version": "1.2.0"
  }
 },
 "nbformat": 4,
 "nbformat_minor": 2
}
